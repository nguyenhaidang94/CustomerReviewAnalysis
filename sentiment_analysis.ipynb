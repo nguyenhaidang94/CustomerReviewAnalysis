{
  "nbformat": 4,
  "nbformat_minor": 0,
  "metadata": {
    "colab": {
      "name": "sentiment_analysis.ipynb",
      "provenance": [],
      "collapsed_sections": [
        "Z99zdW1ppFlw",
        "HY-k0CVltdgX",
        "leH0JAN1tgRW",
        "LL7Lpi-jtlMs",
        "NJXdtQwgtpYo",
        "mLf1LRfB9XD5",
        "om-lv5YJrIU9",
        "bTEQvKYBrMfj",
        "y-_OEkCY8mzc",
        "AmBF3faBTfqY",
        "kEqf20q1mdXA",
        "k3m65F3_sfnP",
        "0gTNX1y8FuD9",
        "Bv9tThdRXyMr",
        "yFgVjQre1vDG",
        "LFmWgfc3_xad"
      ],
      "include_colab_link": true
    },
    "kernelspec": {
      "name": "python3",
      "display_name": "Python 3"
    },
    "accelerator": "GPU"
  },
  "cells": [
    {
      "cell_type": "markdown",
      "metadata": {
        "id": "view-in-github",
        "colab_type": "text"
      },
      "source": [
        "<a href=\"https://colab.research.google.com/github/nguyenhaidang94/CustomerReviewAnalysis/blob/master/sentiment_analysis.ipynb\" target=\"_parent\"><img src=\"https://colab.research.google.com/assets/colab-badge.svg\" alt=\"Open In Colab\"/></a>"
      ]
    },
    {
      "cell_type": "code",
      "metadata": {
        "id": "ayFJmYnK70Gi",
        "colab_type": "code",
        "colab": {}
      },
      "source": [
        "import pandas as pd\n",
        "import numpy as np\n",
        "import os\n",
        "import re\n",
        "import numpy.random as npr\n",
        "\n",
        "import matplotlib.pyplot as plt\n",
        "\n",
        "plt.style.use(\"ggplot\")"
      ],
      "execution_count": 0,
      "outputs": []
    },
    {
      "cell_type": "code",
      "metadata": {
        "id": "T5B0__hx8ZDf",
        "colab_type": "code",
        "outputId": "aa895cdc-8adb-4344-8bad-44546a150ab4",
        "colab": {
          "base_uri": "https://localhost:8080/",
          "height": 124
        }
      },
      "source": [
        "from google.colab import drive\n",
        "drive.mount(\"/content/drive\")"
      ],
      "execution_count": 0,
      "outputs": [
        {
          "output_type": "stream",
          "text": [
            "Go to this URL in a browser: https://accounts.google.com/o/oauth2/auth?client_id=947318989803-6bn6qk8qdgf4n4g3pfee6491hc0brc4i.apps.googleusercontent.com&redirect_uri=urn%3Aietf%3Awg%3Aoauth%3A2.0%3Aoob&scope=email%20https%3A%2F%2Fwww.googleapis.com%2Fauth%2Fdocs.test%20https%3A%2F%2Fwww.googleapis.com%2Fauth%2Fdrive%20https%3A%2F%2Fwww.googleapis.com%2Fauth%2Fdrive.photos.readonly%20https%3A%2F%2Fwww.googleapis.com%2Fauth%2Fpeopleapi.readonly&response_type=code\n",
            "\n",
            "Enter your authorization code:\n",
            "··········\n",
            "Mounted at /content/drive\n"
          ],
          "name": "stdout"
        }
      ]
    },
    {
      "cell_type": "markdown",
      "metadata": {
        "id": "Z99zdW1ppFlw",
        "colab_type": "text"
      },
      "source": [
        "## Clone repo and install packages"
      ]
    },
    {
      "cell_type": "code",
      "metadata": {
        "id": "uqtg8vhUpDW1",
        "colab_type": "code",
        "outputId": "714fcef3-0cee-4a5a-efec-80284cd10323",
        "colab": {
          "base_uri": "https://localhost:8080/",
          "height": 330
        }
      },
      "source": [
        "!git clone https://github.com/deepai-solutions/core_nlp.git\n",
        "!pip install python-crfsuite\n",
        "!pip install sklearn_crfsuite"
      ],
      "execution_count": 0,
      "outputs": [
        {
          "output_type": "stream",
          "text": [
            "Cloning into 'core_nlp'...\n",
            "remote: Enumerating objects: 205, done.\u001b[K\n",
            "Receiving objects:   0% (1/205)   \rReceiving objects:   1% (3/205)   \rReceiving objects:   2% (5/205)   \rReceiving objects:   3% (7/205)   \rReceiving objects:   4% (9/205)   \rReceiving objects:   5% (11/205)   \rReceiving objects:   6% (13/205)   \rReceiving objects:   7% (15/205)   \rReceiving objects:   8% (17/205)   \rReceiving objects:   9% (19/205)   \rReceiving objects:  10% (21/205)   \rReceiving objects:  11% (23/205)   \rReceiving objects:  12% (25/205)   \rReceiving objects:  13% (27/205)   \rReceiving objects:  14% (29/205)   \rReceiving objects:  15% (31/205)   \rReceiving objects:  16% (33/205)   \rReceiving objects:  17% (35/205)   \rReceiving objects:  18% (37/205)   \rReceiving objects:  19% (39/205)   \rReceiving objects:  20% (41/205)   \rReceiving objects:  21% (44/205)   \rReceiving objects:  22% (46/205)   \rReceiving objects:  23% (48/205)   \rReceiving objects:  24% (50/205)   \rReceiving objects:  25% (52/205)   \rReceiving objects:  26% (54/205)   \rReceiving objects:  27% (56/205)   \rReceiving objects:  28% (58/205)   \rReceiving objects:  29% (60/205)   \rReceiving objects:  30% (62/205)   \rReceiving objects:  31% (64/205)   \rReceiving objects:  32% (66/205)   \rReceiving objects:  33% (68/205)   \rReceiving objects:  34% (70/205)   \rReceiving objects:  35% (72/205)   \rReceiving objects:  36% (74/205)   \rReceiving objects:  37% (76/205)   \rReceiving objects:  38% (78/205)   \rReceiving objects:  39% (80/205)   \rReceiving objects:  40% (82/205)   \rReceiving objects:  41% (85/205)   \rReceiving objects:  42% (87/205)   \rReceiving objects:  43% (89/205)   \rReceiving objects:  44% (91/205)   \rReceiving objects:  45% (93/205)   \rReceiving objects:  46% (95/205)   \rReceiving objects:  47% (97/205)   \rReceiving objects:  48% (99/205)   \rReceiving objects:  49% (101/205)   \rReceiving objects:  50% (103/205)   \rReceiving objects:  51% (105/205)   \rReceiving objects:  52% (107/205)   \rReceiving objects:  53% (109/205)   \rReceiving objects:  54% (111/205)   \rReceiving objects:  55% (113/205)   \rReceiving objects:  56% (115/205)   \rReceiving objects:  57% (117/205)   \rReceiving objects:  58% (119/205)   \rReceiving objects:  59% (121/205)   \rReceiving objects:  60% (123/205)   \rReceiving objects:  61% (126/205)   \rReceiving objects:  62% (128/205)   \rReceiving objects:  63% (130/205)   \rReceiving objects:  64% (132/205)   \rReceiving objects:  65% (134/205)   \rReceiving objects:  66% (136/205)   \rReceiving objects:  67% (138/205)   \rReceiving objects:  68% (140/205)   \rReceiving objects:  69% (142/205)   \rReceiving objects:  70% (144/205)   \rReceiving objects:  71% (146/205)   \rReceiving objects:  72% (148/205)   \rReceiving objects:  73% (150/205)   \rReceiving objects:  74% (152/205)   \rReceiving objects:  75% (154/205)   \rReceiving objects:  76% (156/205)   \rReceiving objects:  77% (158/205)   \rReceiving objects:  78% (160/205)   \rReceiving objects:  79% (162/205)   \rReceiving objects:  80% (164/205)   \rReceiving objects:  81% (167/205)   \rReceiving objects:  82% (169/205)   \rReceiving objects:  83% (171/205)   \rReceiving objects:  84% (173/205)   \rReceiving objects:  85% (175/205)   \rremote: Total 205 (delta 0), reused 0 (delta 0), pack-reused 205\u001b[K\n",
            "Receiving objects:  86% (177/205)   \rReceiving objects:  87% (179/205)   \rReceiving objects:  88% (181/205)   \rReceiving objects:  89% (183/205)   \rReceiving objects:  90% (185/205)   \rReceiving objects:  91% (187/205)   \rReceiving objects:  92% (189/205)   \rReceiving objects:  93% (191/205)   \rReceiving objects:  94% (193/205)   \rReceiving objects:  95% (195/205)   \rReceiving objects:  96% (197/205)   \rReceiving objects:  97% (199/205)   \rReceiving objects:  98% (201/205)   \rReceiving objects:  99% (203/205)   \rReceiving objects: 100% (205/205)   \rReceiving objects: 100% (205/205), 9.69 MiB | 26.33 MiB/s, done.\n",
            "Resolving deltas: 100% (101/101), done.\n",
            "Collecting python-crfsuite\n",
            "\u001b[?25l  Downloading https://files.pythonhosted.org/packages/2f/86/cfcd71edca9d25d3d331209a20f6314b6f3f134c29478f90559cee9ce091/python_crfsuite-0.9.6-cp36-cp36m-manylinux1_x86_64.whl (754kB)\n",
            "\u001b[K     |████████████████████████████████| 757kB 3.5MB/s \n",
            "\u001b[?25hInstalling collected packages: python-crfsuite\n",
            "Successfully installed python-crfsuite-0.9.6\n",
            "Collecting sklearn_crfsuite\n",
            "  Downloading https://files.pythonhosted.org/packages/25/74/5b7befa513482e6dee1f3dd68171a6c9dfc14c0eaa00f885ffeba54fe9b0/sklearn_crfsuite-0.3.6-py2.py3-none-any.whl\n",
            "Requirement already satisfied: tqdm>=2.0 in /usr/local/lib/python3.6/dist-packages (from sklearn_crfsuite) (4.28.1)\n",
            "Requirement already satisfied: python-crfsuite>=0.8.3 in /usr/local/lib/python3.6/dist-packages (from sklearn_crfsuite) (0.9.6)\n",
            "Requirement already satisfied: tabulate in /usr/local/lib/python3.6/dist-packages (from sklearn_crfsuite) (0.8.3)\n",
            "Requirement already satisfied: six in /usr/local/lib/python3.6/dist-packages (from sklearn_crfsuite) (1.12.0)\n",
            "Installing collected packages: sklearn-crfsuite\n",
            "Successfully installed sklearn-crfsuite-0.3.6\n"
          ],
          "name": "stdout"
        }
      ]
    },
    {
      "cell_type": "markdown",
      "metadata": {
        "id": "HY-k0CVltdgX",
        "colab_type": "text"
      },
      "source": [
        "## Define PATH"
      ]
    },
    {
      "cell_type": "code",
      "metadata": {
        "id": "y6Jry27pE8fY",
        "colab_type": "code",
        "cellView": "code",
        "colab": {}
      },
      "source": [
        "#@title\n",
        "folder_path = \"/content/drive/My Drive/Master/2nd Semester/AdvMLDM/Project_AdvMLDM/dataset/labeled_data\"\n",
        "train_folder = \"data_train/train\"\n",
        "val_folder = \"data_train/test\"\n",
        "test_folder = \"data_test/test\"\n",
        "pos_folder = \"pos\"\n",
        "neg_folder = \"neg\"\n",
        "separator = \"/\"\n",
        "\n",
        "def get_folder_path():\n",
        "  return folder_path\n",
        "\n",
        "def get_separator():\n",
        "  return separator\n",
        "\n",
        "def get_test_pos_folder(separator = \"/\"):\n",
        "  paths = [folder_path, test_folder, pos_folder]\n",
        "  return separator.join(paths)\n",
        "\n",
        "def get_test_neg_folder(separator = \"/\"):\n",
        "  paths = [folder_path, test_folder, neg_folder]\n",
        "  return separator.join(paths)\n",
        "\n",
        "def get_train_pos_folder(separator = \"/\"):\n",
        "  paths = [folder_path, train_folder, pos_folder]\n",
        "  return separator.join(paths)\n",
        "\n",
        "def get_train_neg_folder(separator = \"/\"):\n",
        "  paths = [folder_path, train_folder, neg_folder]\n",
        "  return separator.join(paths)\n",
        "\n",
        "def get_val_pos_folder(separator = \"/\"):\n",
        "  paths = [folder_path, val_folder, pos_folder]\n",
        "  return separator.join(paths)\n",
        "\n",
        "def get_val_neg_folder(separator = \"/\"):\n",
        "  paths = [folder_path, val_folder, neg_folder]\n",
        "  return separator.join(paths)"
      ],
      "execution_count": 0,
      "outputs": []
    },
    {
      "cell_type": "markdown",
      "metadata": {
        "id": "leH0JAN1tgRW",
        "colab_type": "text"
      },
      "source": [
        "## Function read file content"
      ]
    },
    {
      "cell_type": "code",
      "metadata": {
        "id": "S7hVei-DeX_U",
        "colab_type": "code",
        "colab": {}
      },
      "source": [
        "def read_file_content(path):\n",
        "  with open(path, 'r') as f:\n",
        "    return f.read()\n",
        "\n",
        "def read_files(path):\n",
        "  file_contents = []\n",
        "  with os.scandir(path) as entries:\n",
        "    for entry in entries:\n",
        "      if entry.is_file():\n",
        "        file_content = read_file_content(entry.path)\n",
        "        file_contents.append(file_content)\n",
        "  return file_contents"
      ],
      "execution_count": 0,
      "outputs": []
    },
    {
      "cell_type": "markdown",
      "metadata": {
        "id": "LL7Lpi-jtlMs",
        "colab_type": "text"
      },
      "source": [
        "## Function save data to pickle"
      ]
    },
    {
      "cell_type": "code",
      "metadata": {
        "id": "uenJzMgShzWN",
        "colab_type": "code",
        "colab": {}
      },
      "source": [
        "def save_reviews_to_pickle(pos_folder, neg_folder, save_path):\n",
        "  pos_reviews = read_files(pos_folder)\n",
        "  pos_labels = np.ones(len(pos_reviews))\n",
        "  neg_reviews = read_files(neg_folder)\n",
        "  neg_labels = np.zeros(len(neg_reviews))\n",
        "  \n",
        "  reviews = np.concatenate((pos_reviews, neg_reviews))\n",
        "  labels = np.concatenate((pos_labels, neg_labels))\n",
        "  \n",
        "  data = pd.DataFrame()\n",
        "  data[review_col] = reviews\n",
        "  data[label_col] = labels\n",
        "  # Shuffle dataframe\n",
        "  data = data.sample(frac=1).reset_index(drop=True)\n",
        "  \n",
        "  data.to_pickle(save_path)"
      ],
      "execution_count": 0,
      "outputs": []
    },
    {
      "cell_type": "markdown",
      "metadata": {
        "id": "NJXdtQwgtpYo",
        "colab_type": "text"
      },
      "source": [
        "## Process saving data to pickle"
      ]
    },
    {
      "cell_type": "code",
      "metadata": {
        "id": "K7afh9dCYTnP",
        "colab_type": "code",
        "colab": {}
      },
      "source": [
        "# Save training data to pickle\n",
        "# save_reviews_to_pickle(get_train_pos_folder(), get_train_neg_folder()\n",
        "#                        , get_folder_path() + get_separator() + saved_train_file)\n",
        "\n",
        "# Save validation data to pickle\n",
        "# save_reviews_to_pickle(get_val_pos_folder(), get_val_neg_folder()\n",
        "#                        , get_folder_path() + get_separator() + saved_val_file)\n",
        "\n",
        "# Save testing data to pickle\n",
        "# save_reviews_to_pickle(get_test_pos_folder(), get_test_neg_folder()\n",
        "#                        , get_folder_path() + get_separator() + saved_test_file)"
      ],
      "execution_count": 0,
      "outputs": []
    },
    {
      "cell_type": "markdown",
      "metadata": {
        "id": "mLf1LRfB9XD5",
        "colab_type": "text"
      },
      "source": [
        "## Preprocessing"
      ]
    },
    {
      "cell_type": "markdown",
      "metadata": {
        "id": "om-lv5YJrIU9",
        "colab_type": "text"
      },
      "source": [
        "### Function for preprocessing"
      ]
    },
    {
      "cell_type": "code",
      "metadata": {
        "colab_type": "code",
        "id": "XXNhn0Gd8GGQ",
        "colab": {}
      },
      "source": [
        "# Remove false mark and not having mark reviews\n",
        "\n",
        "false_mark = ' ́'[1] + ' ̀'[1] + ' ̉'[1] + ' ̣'[1] + ' ̃'[1]\n",
        "vietnam_alp = 'áàãảạăắằẳẵặâấầẩẫậóòỏõọôốồổộỗơớờởỡợúùủũụưứừữựửíìỉĩịýỳỷỹỵéèẻẽẹêếềểễệ'\n",
        "\n",
        "\n",
        "def is_false_mark(string):\n",
        "  \"\"\"\n",
        "    True if string is false mark. \n",
        "  \"\"\"\n",
        "  return (any ( c in false_mark for c in string))\n",
        "    \n",
        "  \n",
        "def is_have_mark(string):\n",
        "  \"\"\"\n",
        "    False if string is not have mark \n",
        "  \"\"\"\n",
        "  return (any ( c in vietnam_alp for c in string))\n",
        "\n",
        "def find_false_mark(df, col):\n",
        "  false_mark_indices = []\n",
        "  for index, row in df.iterrows():\n",
        "    if is_false_mark(row[col].lower()):\n",
        "      false_mark_indices.append(index)\n",
        "  return false_mark_indices\n",
        "\n",
        "def find_not_having_mark(df, col):\n",
        "  not_have_mark_indices = []\n",
        "  for index, row in df.iterrows():\n",
        "    if not is_have_mark(row[col].lower()):\n",
        "      not_have_mark_indices.append(index)\n",
        "  return not_have_mark_indices\n",
        "\n",
        "def remove_not_having_mark(df, col_name):\n",
        "  not_have_mark_indices = find_not_having_mark(df, col_name)\n",
        "  print(\"Don't have mark: {}, take {}%\".format(len(not_have_mark_indices)\n",
        "                                             , len(not_have_mark_indices)/len(df) * 100))\n",
        "  df.drop(index=not_have_mark_indices, inplace=True)\n",
        "  df.reset_index(drop=True, inplace=True)"
      ],
      "execution_count": 0,
      "outputs": []
    },
    {
      "cell_type": "code",
      "metadata": {
        "id": "Z3Fq9FwjF9Bc",
        "colab_type": "code",
        "colab": {}
      },
      "source": [
        "magic_re = r'(?P<mark>[áàãảạắằẳẵặấầẩẫậóòỏõọốồổộỗớờởỡợúùủũụứừữựửíìỉĩịýỳỷỹỵéèẻẽẹếềểễệ]) (?P<word>([a-z][a-z][_.,;!?]* )|([a-z][_.,;!?]* )|([a-z][a-z][.,;!?])|([a-z][[.,;!?]]))'\n",
        "\n",
        "def correct_false_mark(string):\n",
        "  \"\"\" \n",
        "    Correct False Mark\n",
        "  \"\"\"\n",
        "  \n",
        "  string =  re.sub('a ́','á',string)  \n",
        "  string =  re.sub('a ̀','à',string)  \n",
        "  string =  re.sub('a ̉','ả',string)\n",
        "  string =  re.sub('a ̣','ạ',string)  \n",
        "  string =  re.sub('a ̃','ã',string) \n",
        "  \n",
        "  string =  re.sub('ă ́','ắ',string)  \n",
        "  string =  re.sub('ă ̀','ằ',string)  \n",
        "  string =  re.sub('ă ̉','ẳ',string)\n",
        "  string =  re.sub('ă ̣','ặ',string)  \n",
        "  string =  re.sub('ă ̃','ẵ',string)  \n",
        "  \n",
        "  string =  re.sub('â ́','ấ',string)  \n",
        "  string =  re.sub('â ̀','ầ',string)  \n",
        "  string =  re.sub('â ̉','ậ',string)\n",
        "  string =  re.sub('â ̃','ẫ',string)  \n",
        "  string =  re.sub('â ̣','ậ',string)  \n",
        "  \n",
        "  string =  re.sub('o ́','ó',string)  \n",
        "  string =  re.sub('o ̀','ò',string)  \n",
        "  string =  re.sub('o ̉','ỏ',string)\n",
        "  string =  re.sub('o ̃','õ',string)  \n",
        "  string =  re.sub('o ̣','ọ',string)  \n",
        "  \n",
        "  string =  re.sub('ô ́','ố',string)  \n",
        "  string =  re.sub('ô ̀','ồ',string)  \n",
        "  string =  re.sub('ô ̉','ổ',string)\n",
        "  string =  re.sub('ô ̃','ỗ',string)  \n",
        "  string =  re.sub('ô ̣','ộ',string)\n",
        "  \n",
        "  string =  re.sub('ơ ́','ớ',string)  \n",
        "  string =  re.sub('ơ ̀','ờ',string)  \n",
        "  string =  re.sub('ơ ̉','ở',string)\n",
        "  string =  re.sub('ơ ̃','ỡ',string)  \n",
        "  string =  re.sub('ơ ̣','ợ',string)\n",
        "\n",
        "  string =  re.sub('u ́','ú',string)  \n",
        "  string =  re.sub('u ̀','ù',string)  \n",
        "  string =  re.sub('u ̉','ủ',string)\n",
        "  string =  re.sub('u ̃','ũ',string)  \n",
        "  string =  re.sub('u ̣','ụ',string)\n",
        "  \n",
        "  string =  re.sub('ư ́','ứ',string)  \n",
        "  string =  re.sub('ư ̀','ừ',string)  \n",
        "  string =  re.sub('ư ̉','ử',string)\n",
        "  string =  re.sub('ư ̃','ữ',string)  \n",
        "  string =  re.sub('ư ̣','ự',string)\n",
        "  \n",
        "  string =  re.sub('i ́','í',string)  \n",
        "  string =  re.sub('i ̀','ì',string)  \n",
        "  string =  re.sub('i ̉','ỉ',string)\n",
        "  string =  re.sub('i ̃','ĩ',string)  \n",
        "  string =  re.sub('i ̣','ị',string)\n",
        "  \n",
        "  string =  re.sub('y ́','ý',string)  \n",
        "  string =  re.sub('y ̀','ỳ',string)  \n",
        "  string =  re.sub('y ̉','ỷ',string)\n",
        "  string =  re.sub('y ̃','ỹ',string)  \n",
        "  string =  re.sub('y ̣','ỵ',string)\n",
        "  \n",
        "  string =  re.sub('e ́','é',string)  \n",
        "  string =  re.sub('e ̀','è',string)  \n",
        "  string =  re.sub('e ̉','ẻ',string)\n",
        "  string =  re.sub('e ̃','ẽ',string)  \n",
        "  string =  re.sub('e ̣','ẹ',string)\n",
        "  \n",
        "  string =  re.sub('ê ́','ế',string)  \n",
        "  string =  re.sub('ê ̀','ề',string)  \n",
        "  string =  re.sub('ê ̉','ể',string)\n",
        "  string =  re.sub('ê ̃','ễ',string)  \n",
        "  string =  re.sub('ê ̣','ệ',string)\n",
        "  \n",
        "  string = re.sub(magic_re,'\\g<mark>\\g<word> ', string)\n",
        "  return string\n",
        "\n",
        "def recompile_false_mark(df, col_name):\n",
        "  false_mark_indices = find_false_mark(df, col_name)\n",
        "  print(\"False mark: {}, take {}%\".format(len(false_mark_indices)\n",
        "                                             , len(false_mark_indices)/len(df) * 100))\n",
        "  print(\"Recompile false mark\")\n",
        "  df.loc[false_mark_indices, col_name] = df.loc[false_mark_indices, col_name].apply(correct_false_mark)\n",
        "  \n",
        "  new_false_mark_indices = find_false_mark(df, col_name)\n",
        "  print(\"Remaining false mark: {}, take {}%\".format(len(new_false_mark_indices)\n",
        "                                                    , len(new_false_mark_indices)/len(df) * 100))"
      ],
      "execution_count": 0,
      "outputs": []
    },
    {
      "cell_type": "code",
      "metadata": {
        "id": "PAmKmAgS-LaB",
        "colab_type": "code",
        "colab": {}
      },
      "source": [
        "# Remove new line, comma, special chars, numbers, special words\n",
        "special_chars_re = \"[+\\-\\\"():;\\\\\\/\\^<>']\"\n",
        "numbers_re = \"\\d+\"\n",
        "\n",
        "# TODO: some reviews, user starts new line without dot\n",
        "def remove_new_line(str):\n",
        "  return str.replace(\"\\n\", \"\")\n",
        "\n",
        "def remove_comma(str):\n",
        "  return str.replace(\",\", \"\")\n",
        "\n",
        "def replace_underline(str):\n",
        "  return str.replace(\"_\", \" \")\n",
        "\n",
        "def remove_sepcial_chars(str):\n",
        "  return re.sub(special_chars_re, \"\", str)\n",
        "\n",
        "def remove_numbers(str):\n",
        "  return re.sub(numbers_re, \"\", str)\n",
        "\n",
        "def remove_special_word(str, special_word):\n",
        "  return str.replace(special_word, \"\")"
      ],
      "execution_count": 0,
      "outputs": []
    },
    {
      "cell_type": "code",
      "metadata": {
        "id": "mZtBgQi3-YdL",
        "colab_type": "code",
        "colab": {}
      },
      "source": [
        "# Remove stop words\n",
        "def read_file_content(path):\n",
        "  with open(path, 'r') as f:\n",
        "    return f.read()\n",
        "\n",
        "def remove_stop_words(str, stop_words):\n",
        "  words = str.split()\n",
        "  result_words  = [word for word in words if word not in stop_words]\n",
        "  return ' '.join(result_words)"
      ],
      "execution_count": 0,
      "outputs": []
    },
    {
      "cell_type": "code",
      "metadata": {
        "id": "ndB7KdbW-gUa",
        "colab_type": "code",
        "colab": {}
      },
      "source": [
        "# Lower case\n",
        "def lower_case(str):\n",
        "  return str.lower()"
      ],
      "execution_count": 0,
      "outputs": []
    },
    {
      "cell_type": "code",
      "metadata": {
        "id": "oGdAkALFCPdm",
        "colab_type": "code",
        "colab": {}
      },
      "source": [
        "# Combine words using gensim Phrases\n",
        "def combine_words(review, bigram_model):\n",
        "  words = review.split()\n",
        "  new_review = \" \".join(bigram_model[words])\n",
        "  return new_review"
      ],
      "execution_count": 0,
      "outputs": []
    },
    {
      "cell_type": "code",
      "metadata": {
        "id": "qT_gOQzm-qtP",
        "colab_type": "code",
        "colab": {}
      },
      "source": [
        "# Tokenize\n",
        "def tokenize(list_str, tokenizer):\n",
        "  list_tokens = []\n",
        "  for str in list_str:\n",
        "    list_tokens.append(tokenizer.tokenize(str))\n",
        "  return list_tokens"
      ],
      "execution_count": 0,
      "outputs": []
    },
    {
      "cell_type": "markdown",
      "metadata": {
        "id": "bTEQvKYBrMfj",
        "colab_type": "text"
      },
      "source": [
        "### Combine to one step"
      ]
    },
    {
      "cell_type": "code",
      "metadata": {
        "id": "_-RG1wNh-1Md",
        "colab_type": "code",
        "colab": {}
      },
      "source": [
        "# Combine all steps together\n",
        "origin_review_col = \"review\"\n",
        "review_col = \"review_cleaned\"\n",
        "bigram_model_file = \"/content/drive/My Drive/Master/2nd Semester/AdvMLDM/Project_AdvMLDM/dang/lda/bigram.dat\"\n",
        "file_stop_words = \"/content/drive/My Drive/Master/2nd Semester/AdvMLDM/Project_AdvMLDM/vietnamese-stopwords.txt\"\n",
        "\n",
        "def preprocessing(df):\n",
        "  df[review_col] = df[origin_review_col].values\n",
        "  print(\"Remove not having mark reviews...\")\n",
        "  remove_not_having_mark(df, review_col)\n",
        "  print(\"Number of remaining reviews: {}\".format(len(df)))\n",
        "  print(\"Recompile false mark\")\n",
        "  recompile_false_mark(df, review_col)\n",
        "  \n",
        "  print(\"Remove new line...\")\n",
        "  df[review_col] = df[review_col].apply(remove_new_line)\n",
        "  print(\"Remove comma...\")\n",
        "  df[review_col] = df[review_col].apply(remove_comma)\n",
        "  print(\"Remove special chars...\")\n",
        "  df[review_col] = df[review_col].apply(remove_sepcial_chars)\n",
        "  print(\"Remove numbers...\")\n",
        "  df[review_col] = df[review_col].apply(remove_numbers)\n",
        "  print(\"Lower case...\")\n",
        "  df[review_col] = df[review_col].apply(lower_case)\n",
        "  \n",
        "#   print(\"Load bigram model...\")\n",
        "#   bigram = Phrases.load(bigram_model_file)\n",
        "#   print(\"Combine words...\")\n",
        "#   df[review_col] = df[review_col].apply(combine_words, args=(bigram,))\n",
        "  \n",
        "  print(\"Remove stop words...\")\n",
        "  full_stop_words = read_file_content(file_stop_words)\n",
        "  list_stop_words = full_stop_words.split(\"\\n\")\n",
        "  df[review_col] = df[review_col].apply(remove_stop_words, args=(list_stop_words,))\n",
        "  print(\"Finished preprocessing!\")"
      ],
      "execution_count": 0,
      "outputs": []
    },
    {
      "cell_type": "markdown",
      "metadata": {
        "id": "y-_OEkCY8mzc",
        "colab_type": "text"
      },
      "source": [
        "## Load data"
      ]
    },
    {
      "cell_type": "code",
      "metadata": {
        "id": "Gd7EFZ-OogAu",
        "colab_type": "code",
        "colab": {}
      },
      "source": [
        "# training_data = pd.read_pickle(get_folder_path() + get_separator() + saved_train_file)\n",
        "# preprocessing(training_data)\n",
        "\n",
        "# validation_data = pd.read_pickle(get_folder_path() + get_separator() + saved_val_file)\n",
        "# preprocessing(validation_data)\n",
        "\n",
        "# testing_data = pd.read_pickle(get_folder_path() + get_separator() + saved_test_file)\n",
        "# preprocessing(testing_data)"
      ],
      "execution_count": 0,
      "outputs": []
    },
    {
      "cell_type": "code",
      "metadata": {
        "id": "-9lJt1bjiwpb",
        "colab_type": "code",
        "colab": {}
      },
      "source": [
        "training_cleaned_file = \"training_cleaned.pkl\"\n",
        "validation_cleaned_file = \"validation_cleaned.pkl\"\n",
        "testing_cleaned_file = \"testing_cleaned.pkl\"\n",
        "\n",
        "# training_data.to_pickle(folder_path + get_separator() + training_cleaned_file)\n",
        "# validation_data.to_pickle(folder_path + get_separator() + validation_cleaned_file)\n",
        "# testing_data.to_pickle(folder_path + get_separator() + testing_cleaned_file)\n",
        "\n",
        "training_data = pd.read_pickle(get_folder_path() + get_separator() + training_cleaned_file)\n",
        "testing_data = pd.read_pickle(get_folder_path() + get_separator() + testing_cleaned_file)\n",
        "validation_data = pd.read_pickle(get_folder_path() + get_separator() + validation_cleaned_file)"
      ],
      "execution_count": 0,
      "outputs": []
    },
    {
      "cell_type": "markdown",
      "metadata": {
        "id": "AmBF3faBTfqY",
        "colab_type": "text"
      },
      "source": [
        "## Common code"
      ]
    },
    {
      "cell_type": "code",
      "metadata": {
        "id": "oRsOBMysTh4Q",
        "colab_type": "code",
        "outputId": "76c5877b-4a09-4b05-9be0-59c7b523ff98",
        "colab": {
          "base_uri": "https://localhost:8080/"
        }
      },
      "source": [
        "from sklearn.feature_extraction.text import CountVectorizer\n",
        "from sklearn.feature_extraction.text import TfidfVectorizer\n",
        "from sklearn.linear_model import LogisticRegression\n",
        "from sklearn.decomposition import TruncatedSVD\n",
        "from core_nlp.tokenization.crf_tokenizer import CrfTokenizer\n",
        "\n",
        "from keras.models import Sequential\n",
        "from keras import layers\n",
        "from keras.preprocessing.text import Tokenizer\n",
        "from keras.preprocessing.sequence import pad_sequences\n",
        "from keras.initializers import Constant\n",
        "from keras.utils.vis_utils import plot_model\n",
        "\n",
        "from gensim.corpora import Dictionary\n",
        "from gensim.models import Word2Vec\n",
        "from gensim.models import KeyedVectors\n",
        "from gensim.models.phrases import Phrases, Phraser"
      ],
      "execution_count": 0,
      "outputs": [
        {
          "output_type": "stream",
          "text": [
            "Using TensorFlow backend.\n"
          ],
          "name": "stderr"
        }
      ]
    },
    {
      "cell_type": "code",
      "metadata": {
        "id": "v8CFGk8MTpis",
        "colab_type": "code",
        "colab": {}
      },
      "source": [
        "# Global variables\n",
        "w2v_file = \"/content/drive/My Drive/Master/2nd Semester/AdvMLDM/Project_AdvMLDM/dang/word2vec.dat\"\n",
        "unlabeled_w2v_file = \"/content/drive/My Drive/Master/2nd Semester/AdvMLDM/Project_AdvMLDM/dang/word2vec_unlabeled.dat\"\n",
        "review_col = \"review_cleaned\"\n",
        "label_col = \"label\"\n",
        "saved_train_file = \"training.pkl\"\n",
        "saved_val_file = \"validation.pkl\"\n",
        "saved_test_file = \"testting.pkl\"\n",
        "\n",
        "def sample(low, high, n_samples):\n",
        "  return npr.randint(low, high, n_samples)\n",
        "\n",
        "def train_countvectorizer(sentences, tokenizer=None):\n",
        "  vectorizer = CountVectorizer(analyzer=\"word\", tokenizer=tokenizer)\n",
        "  vectorizer.fit(sentences)\n",
        "  return vectorizer\n",
        "\n",
        "def train_tfidfvectorizer(sentences, tokenizer=None):\n",
        "  vectorizer = TfidfVectorizer(analyzer=\"word\", tokenizer=tokenizer)\n",
        "  vectorizer.fit(sentences)\n",
        "  return vectorizer\n",
        "\n",
        "def get_tokenizer():\n",
        "  tokenizer = CrfTokenizer(config_root_path='core_nlp/tokenization/',\n",
        "                          model_path='core_nlp/models/pretrained_tokenizer.crfsuite')\n",
        "  return tokenizer\n",
        "\n",
        "def plot_history(history):\n",
        "  acc = history.history['acc']\n",
        "  val_acc = history.history['val_acc']\n",
        "  loss = history.history['loss']\n",
        "  val_loss = history.history['val_loss']\n",
        "  x = range(1, len(acc) + 1)\n",
        "\n",
        "  plt.figure(figsize=(20, 5))\n",
        "  plt.subplot(1, 2, 1)\n",
        "  plt.plot(x, acc, 'b', label='Training acc')\n",
        "  plt.plot(x, val_acc, 'r', label='Validation acc')\n",
        "  plt.title('Training and validation accuracy')\n",
        "  plt.legend()\n",
        "  plt.subplot(1, 2, 2)\n",
        "  plt.plot(x, loss, 'b', label='Training loss')\n",
        "  plt.plot(x, val_loss, 'r', label='Validation loss')\n",
        "  plt.title('Training and validation loss')\n",
        "  plt.legend()\n",
        "  \n",
        "def tokenize_sentences(list_sentences, tokenizer):\n",
        "  list_tokens = []\n",
        "  for sentence in list_sentences:\n",
        "    list_tokens.append(tokenizer.tokenize(sentence))\n",
        "  return list_tokens\n",
        "\n",
        "def find_max_len_in_matrix(matrix_x, current_max_len=0):\n",
        "  max_len = current_max_len\n",
        "  for i in range(0, len(matrix_x)):\n",
        "    length = len(matrix_x[i])\n",
        "    if length > max_len:\n",
        "      max_len = length\n",
        "  return max_len\n",
        "\n",
        "def find_max_len_in_matrices(matrix_x, matrix_y, matrix_z):\n",
        "  max_len = find_max_len_in_matrix(matrix_x)\n",
        "  max_len = find_max_len_in_matrix(matrix_y, max_len)\n",
        "  max_len = find_max_len_in_matrix(matrix_z, max_len)\n",
        "  return max_len\n",
        "\n",
        "def evaluate_nn(model, X_train, y_train, X_val, y_val, X_test, y_test):\n",
        "  training_loss, training_accuracy = model.evaluate(X_train, y_train, verbose=False)\n",
        "  print(\"Training Accuracy:  {:.4f}\".format(training_accuracy))\n",
        "  \n",
        "  val_loss, val_accuracy = model.evaluate(X_val, y_val, verbose=False)\n",
        "  print(\"Validation Accuracy:  {:.4f}\".format(val_accuracy))\n",
        "  \n",
        "  testing_loss, testing_accuracy = model.evaluate(X_test, y_test, verbose=False)\n",
        "  print(\"Testing Accuracy:  {:.4f}\".format(testing_accuracy))\n",
        "\n",
        "def train_word2vec(list_tokens, vector_dim, saved_file):\n",
        "  print(\"Training word2vec...\")\n",
        "  word2vec_model = Word2Vec(list_tokens, size=vector_dim, window=5, min_count=1)\n",
        "  word_vectors = word2vec_model.wv\n",
        "  word_vectors.save_word2vec_format(saved_file)\n",
        "  \n",
        "def train_word2vec_limit_vocab(list_tokens, vector_dim, max_vocab_size, saved_file):\n",
        "  print(\"Training word2vec...\")\n",
        "  word2vec_model = Word2Vec(list_tokens, size=vector_dim, max_final_vocab=max_vocab_size\n",
        "                            , window=5, min_count=1)\n",
        "  word_vectors = word2vec_model.wv\n",
        "  word_vectors.save_word2vec_format(saved_file)\n",
        "  \n",
        "def transform_sentences_to_indices(word_vectors, list_tokens):\n",
        "  list_indicies = []\n",
        "  for tokens in list_tokens:\n",
        "    # change to 1-based index\n",
        "#     indices = [word_vectors.vocab[token].index + 1 for token in tokens]\n",
        "    indices = []\n",
        "    for token in tokens:\n",
        "      index = 0\n",
        "      try:\n",
        "        index = word_vectors.vocab[token].index + 1\n",
        "      except:\n",
        "        index = 0\n",
        "      indices.append(index)\n",
        "    list_indicies.append(indices)\n",
        "  \n",
        "  return list_indicies\n",
        "\n",
        "def transform_tokens_to_indices(word_vectors, tokens):\n",
        "  indices = []\n",
        "  for token in tokens:\n",
        "    index = 0\n",
        "    try:\n",
        "      index = word_vectors.vocab[token].index + 1\n",
        "    except:\n",
        "      index = 0\n",
        "    indices.append(index)\n",
        "  return indices"
      ],
      "execution_count": 0,
      "outputs": []
    },
    {
      "cell_type": "markdown",
      "metadata": {
        "id": "kEqf20q1mdXA",
        "colab_type": "text"
      },
      "source": [
        "## Baseline model"
      ]
    },
    {
      "cell_type": "code",
      "metadata": {
        "id": "iLXwR9xEqq85",
        "colab_type": "code",
        "colab": {}
      },
      "source": [
        "def run_baseline_model(classifier, training_data, validation_data, testing_data):\n",
        "  print(\"Building Vectorizer...\")\n",
        "  reviews = np.concatenate((training_data[review_col].values\n",
        "                            , validation_data[review_col].values, testing_data[review_col].values))\n",
        "  tokenizer = get_tokenizer()\n",
        "  vectorizer = train_tfidfvectorizer(reviews, tokenizer.tokenize)\n",
        "  X_train = vectorizer.transform(training_data[review_col].values)\n",
        "  y_train = training_data[label_col].values\n",
        "\n",
        "  X_val = vectorizer.transform(validation_data[review_col].values)\n",
        "  y_val = validation_data[label_col].values\n",
        "\n",
        "  X_test = vectorizer.transform(testing_data[review_col].values)\n",
        "  y_test = testing_data[label_col].values\n",
        "\n",
        "  print(\"Training baseline model...\")\n",
        "  classifier.fit(X_train, y_train)\n",
        "\n",
        "  training_score = classifier.score(X_train, y_train)\n",
        "  print(\"Score in training set: {}\".format(training_score))\n",
        "  \n",
        "  val_score = classifier.score(X_val, y_val)\n",
        "  print(\"Score in validation set: {}\".format(val_score))\n",
        "\n",
        "  test_score = classifier.score(X_test, y_test)\n",
        "  print(\"Score in testing set: {}\".format(test_score))\n",
        "  return vectorizer"
      ],
      "execution_count": 0,
      "outputs": []
    },
    {
      "cell_type": "code",
      "metadata": {
        "id": "pBTuIW-vy7EU",
        "colab_type": "code",
        "outputId": "dee048bf-7b12-419a-dc78-da6f4039bf8e",
        "colab": {
          "base_uri": "https://localhost:8080/",
          "height": 193
        }
      },
      "source": [
        "print(\"Running Logistic baseline model...\")\n",
        "lr_classifier = LogisticRegression()\n",
        "vectorizer = run_baseline_model(lr_classifier, training_data\n",
        "                                            , validation_data, testing_data)"
      ],
      "execution_count": 0,
      "outputs": [
        {
          "output_type": "stream",
          "text": [
            "Running baseline model...\n",
            "Building Vectorizer...\n",
            "Loading model from file core_nlp/models/pretrained_tokenizer.crfsuite\n",
            "Training baseline model...\n"
          ],
          "name": "stdout"
        },
        {
          "output_type": "stream",
          "text": [
            "/usr/local/lib/python3.6/dist-packages/sklearn/linear_model/logistic.py:432: FutureWarning: Default solver will be changed to 'lbfgs' in 0.22. Specify a solver to silence this warning.\n",
            "  FutureWarning)\n"
          ],
          "name": "stderr"
        },
        {
          "output_type": "stream",
          "text": [
            "Score in training set: 0.910539050947708\n",
            "Score in validation set: 0.8758308157099698\n",
            "Score in testing set: 0.8824418253248716\n"
          ],
          "name": "stdout"
        }
      ]
    },
    {
      "cell_type": "markdown",
      "metadata": {
        "id": "0YMspXkjTCJP",
        "colab_type": "text"
      },
      "source": [
        "BOW:\n",
        "* Score in training set: 0.9568490388493077\n",
        "* Score in validation set: 0.8696878147029204\n",
        "* Score in testing set: 0.8757932910244787\n",
        "\n",
        "TFIDF:\n",
        "* Score in training set: 0.910539050947708\n",
        "* Score in validation set: 0.8758308157099698\n",
        "* Score in testing set: 0.8824418253248716\n"
      ]
    },
    {
      "cell_type": "markdown",
      "metadata": {
        "id": "k3m65F3_sfnP",
        "colab_type": "text"
      },
      "source": [
        "## Neural Network with BOW"
      ]
    },
    {
      "cell_type": "code",
      "metadata": {
        "id": "WyS_ZsP0sr0F",
        "colab_type": "code",
        "colab": {}
      },
      "source": [
        "def build_simple_NN(n_features):\n",
        "  model = Sequential()\n",
        "  model.add(layers.Dense(10, input_dim=n_features, activation='relu'))\n",
        "  model.add(layers.Dense(1, activation='sigmoid'))\n",
        "  return model\n",
        "\n",
        "def run_nn_model(training_data, validation_data, testing_data\n",
        "                 , epochs=10, batch_size=100):\n",
        "  print(\"Building Vectorizer...\")\n",
        "  reviews = np.concatenate((training_data[review_col].values\n",
        "                            , validation_data[review_col].values, testing_data[review_col].values))\n",
        "  tokenizer = get_tokenizer()\n",
        "  vectorizer = train_countvectorizer(reviews, tokenizer.tokenize)\n",
        "\n",
        "  X_train = vectorizer.transform(training_data[review_col].values)\n",
        "  print(\"Vocabulary size :{}\".format(X_train.shape[1]))\n",
        "  y_train = training_data[label_col].values\n",
        "\n",
        "  X_val = vectorizer.transform(validation_data[review_col].values)\n",
        "  y_val = validation_data[label_col].values\n",
        "\n",
        "  X_test = vectorizer.transform(testing_data[review_col].values)\n",
        "  y_test = testing_data[label_col].values\n",
        "  \n",
        "  print(\"Building NN model...\")\n",
        "  model = build_simple_NN(X_train.shape[1])\n",
        "  model.compile(loss='binary_crossentropy', optimizer='adam'\n",
        "                    , metrics=['accuracy'])\n",
        "  print(model.summary())\n",
        "\n",
        "  print(\"Training NN model...\")\n",
        "  history = model.fit(X_train, y_train, epochs=epochs\n",
        "                          , validation_data=(X_val, y_val), batch_size=batch_size)\n",
        "  plot_history(history)\n",
        "  \n",
        "  print(\"Evaluation...\")\n",
        "  evaluate_nn(model, X_train, y_train, X_val, y_val, X_test, y_test)\n",
        "\n",
        "def run_nn_model_reduce_size(training_data, validation_data, testing_data\n",
        "                 , input_dim=400, epochs=10, batch_size=100):\n",
        "  print(\"Building Vectorizer...\")\n",
        "  reviews = np.concatenate((training_data[review_col].values\n",
        "                            , validation_data[review_col].values, testing_data[review_col].values))\n",
        "  tokenizer = get_tokenizer()\n",
        "  vectorizer = train_countvectorizer(reviews, tokenizer.tokenize)\n",
        "\n",
        "  X_train = vectorizer.transform(training_data[review_col].values)\n",
        "  print(\"Vocabulary size :{}\".format(X_train.shape[1]))\n",
        "  y_train = training_data[label_col].values\n",
        "\n",
        "  X_val = vectorizer.transform(validation_data[review_col].values)\n",
        "  y_val = validation_data[label_col].values\n",
        "\n",
        "  X_test = vectorizer.transform(testing_data[review_col].values)\n",
        "  y_test = testing_data[label_col].values\n",
        "  \n",
        "  print(\"Reduce dimension to {}...\".format(input_dim))\n",
        "  lsa = TruncatedSVD(n_components=input_dim)\n",
        "  X_train = lsa.fit_transform(X_train)\n",
        "  X_val = lsa.transform(X_val)\n",
        "  X_test = lsa.transform(X_test)\n",
        "  \n",
        "  print(\"Building NN model...\")\n",
        "  model = build_simple_NN(X_train.shape[1])\n",
        "  model.compile(loss='binary_crossentropy', optimizer='adam'\n",
        "                    , metrics=['accuracy'])\n",
        "  print(model.summary())\n",
        "\n",
        "  print(\"Training NN model...\")\n",
        "  history = model.fit(X_train, y_train, epochs=epochs\n",
        "                          , validation_data=(X_val, y_val), batch_size=batch_size)\n",
        "  plot_history(history)\n",
        "  \n",
        "  print(\"Evaluation...\")\n",
        "  evaluate_nn(model, X_train, y_train, X_val, y_val, X_test, y_test)"
      ],
      "execution_count": 0,
      "outputs": []
    },
    {
      "cell_type": "code",
      "metadata": {
        "id": "jJAB2ENi5Kuq",
        "colab_type": "code",
        "outputId": "41c963e5-57af-4eed-bcab-0db1f45b78c6",
        "colab": {
          "base_uri": "https://localhost:8080/",
          "height": 1000
        }
      },
      "source": [
        "run_nn_model(training_data, validation_data, testing_data, epochs=30)"
      ],
      "execution_count": 0,
      "outputs": [
        {
          "output_type": "stream",
          "text": [
            "Building Vectorizer...\n",
            "Loading model from file core_nlp/models/pretrained_tokenizer.crfsuite\n",
            "Vocabulary size :60537\n"
          ],
          "name": "stdout"
        },
        {
          "output_type": "stream",
          "text": [
            "W0707 10:09:57.806898 139700120360832 deprecation_wrapper.py:119] From /usr/local/lib/python3.6/dist-packages/keras/optimizers.py:790: The name tf.train.Optimizer is deprecated. Please use tf.compat.v1.train.Optimizer instead.\n",
            "\n",
            "W0707 10:09:57.835864 139700120360832 deprecation_wrapper.py:119] From /usr/local/lib/python3.6/dist-packages/keras/backend/tensorflow_backend.py:3376: The name tf.log is deprecated. Please use tf.math.log instead.\n",
            "\n",
            "W0707 10:09:57.843243 139700120360832 deprecation.py:323] From /usr/local/lib/python3.6/dist-packages/tensorflow/python/ops/nn_impl.py:180: add_dispatch_support.<locals>.wrapper (from tensorflow.python.ops.array_ops) is deprecated and will be removed in a future version.\n",
            "Instructions for updating:\n",
            "Use tf.where in 2.0, which has the same broadcast rule as np.where\n"
          ],
          "name": "stderr"
        },
        {
          "output_type": "stream",
          "text": [
            "Building NN model...\n",
            "_________________________________________________________________\n",
            "Layer (type)                 Output Shape              Param #   \n",
            "=================================================================\n",
            "dense_13 (Dense)             (None, 10)                605380    \n",
            "_________________________________________________________________\n",
            "dense_14 (Dense)             (None, 1)                 11        \n",
            "=================================================================\n",
            "Total params: 605,391\n",
            "Trainable params: 605,391\n",
            "Non-trainable params: 0\n",
            "_________________________________________________________________\n",
            "None\n",
            "Training NN model...\n"
          ],
          "name": "stdout"
        },
        {
          "output_type": "stream",
          "text": [
            "W0707 10:09:58.185780 139700120360832 deprecation_wrapper.py:119] From /usr/local/lib/python3.6/dist-packages/keras/backend/tensorflow_backend.py:986: The name tf.assign_add is deprecated. Please use tf.compat.v1.assign_add instead.\n",
            "\n"
          ],
          "name": "stderr"
        },
        {
          "output_type": "stream",
          "text": [
            "Train on 29756 samples, validate on 9930 samples\n",
            "Epoch 1/30\n",
            "29756/29756 [==============================] - 17s 571us/step - loss: 0.3723 - acc: 0.8624 - val_loss: 0.2984 - val_acc: 0.8840\n",
            "Epoch 2/30\n",
            "29756/29756 [==============================] - 13s 439us/step - loss: 0.2468 - acc: 0.9066 - val_loss: 0.2920 - val_acc: 0.8833\n",
            "Epoch 3/30\n",
            "29756/29756 [==============================] - 13s 448us/step - loss: 0.2046 - acc: 0.9237 - val_loss: 0.2967 - val_acc: 0.8807\n",
            "Epoch 4/30\n",
            "29756/29756 [==============================] - 13s 439us/step - loss: 0.1756 - acc: 0.9363 - val_loss: 0.3096 - val_acc: 0.8714\n",
            "Epoch 5/30\n",
            "29756/29756 [==============================] - 13s 438us/step - loss: 0.1531 - acc: 0.9452 - val_loss: 0.3256 - val_acc: 0.8715\n",
            "Epoch 6/30\n",
            "29756/29756 [==============================] - 13s 440us/step - loss: 0.1355 - acc: 0.9521 - val_loss: 0.3453 - val_acc: 0.8688\n",
            "Epoch 7/30\n",
            "29756/29756 [==============================] - 13s 440us/step - loss: 0.1209 - acc: 0.9575 - val_loss: 0.3695 - val_acc: 0.8611\n",
            "Epoch 8/30\n",
            "29756/29756 [==============================] - 13s 442us/step - loss: 0.1082 - acc: 0.9625 - val_loss: 0.3955 - val_acc: 0.8552\n",
            "Epoch 9/30\n",
            "29756/29756 [==============================] - 13s 441us/step - loss: 0.0985 - acc: 0.9659 - val_loss: 0.4256 - val_acc: 0.8513\n",
            "Epoch 10/30\n",
            "29756/29756 [==============================] - 13s 453us/step - loss: 0.0901 - acc: 0.9693 - val_loss: 0.4501 - val_acc: 0.8492\n",
            "Epoch 11/30\n",
            "29756/29756 [==============================] - 14s 461us/step - loss: 0.0828 - acc: 0.9718 - val_loss: 0.4761 - val_acc: 0.8496\n",
            "Epoch 12/30\n",
            "29756/29756 [==============================] - 14s 458us/step - loss: 0.0764 - acc: 0.9741 - val_loss: 0.5077 - val_acc: 0.8437\n",
            "Epoch 13/30\n",
            "29756/29756 [==============================] - 14s 460us/step - loss: 0.0706 - acc: 0.9756 - val_loss: 0.5336 - val_acc: 0.8447\n",
            "Epoch 14/30\n",
            "29756/29756 [==============================] - 14s 460us/step - loss: 0.0660 - acc: 0.9778 - val_loss: 0.5659 - val_acc: 0.8403\n",
            "Epoch 15/30\n",
            "29756/29756 [==============================] - 14s 460us/step - loss: 0.0612 - acc: 0.9796 - val_loss: 0.5993 - val_acc: 0.8387\n",
            "Epoch 16/30\n",
            "29756/29756 [==============================] - 14s 460us/step - loss: 0.0575 - acc: 0.9799 - val_loss: 0.6339 - val_acc: 0.8348\n",
            "Epoch 17/30\n",
            "29756/29756 [==============================] - 14s 461us/step - loss: 0.0546 - acc: 0.9815 - val_loss: 0.6757 - val_acc: 0.8312\n",
            "Epoch 18/30\n",
            "29756/29756 [==============================] - 14s 462us/step - loss: 0.0509 - acc: 0.9825 - val_loss: 0.7124 - val_acc: 0.8279\n",
            "Epoch 19/30\n",
            "29756/29756 [==============================] - 14s 460us/step - loss: 0.0476 - acc: 0.9839 - val_loss: 0.7431 - val_acc: 0.8246\n",
            "Epoch 20/30\n",
            "29756/29756 [==============================] - 14s 461us/step - loss: 0.0457 - acc: 0.9839 - val_loss: 0.7833 - val_acc: 0.8231\n",
            "Epoch 21/30\n",
            "29756/29756 [==============================] - 14s 460us/step - loss: 0.0428 - acc: 0.9854 - val_loss: 0.8101 - val_acc: 0.8223\n",
            "Epoch 22/30\n",
            "29756/29756 [==============================] - 14s 462us/step - loss: 0.0411 - acc: 0.9857 - val_loss: 0.8454 - val_acc: 0.8212\n",
            "Epoch 23/30\n",
            "29756/29756 [==============================] - 14s 460us/step - loss: 0.0384 - acc: 0.9869 - val_loss: 0.8823 - val_acc: 0.8199\n",
            "Epoch 24/30\n",
            "29756/29756 [==============================] - 14s 460us/step - loss: 0.0363 - acc: 0.9879 - val_loss: 0.9235 - val_acc: 0.8147\n",
            "Epoch 25/30\n",
            "29756/29756 [==============================] - 14s 460us/step - loss: 0.0343 - acc: 0.9886 - val_loss: 0.9504 - val_acc: 0.8182\n",
            "Epoch 26/30\n",
            "29756/29756 [==============================] - 14s 466us/step - loss: 0.0333 - acc: 0.9892 - val_loss: 1.0021 - val_acc: 0.8144\n",
            "Epoch 27/30\n",
            "29756/29756 [==============================] - 14s 459us/step - loss: 0.0320 - acc: 0.9896 - val_loss: 1.0431 - val_acc: 0.8112\n",
            "Epoch 28/30\n",
            "29756/29756 [==============================] - 14s 460us/step - loss: 0.0307 - acc: 0.9901 - val_loss: 1.0792 - val_acc: 0.8069\n",
            "Epoch 29/30\n",
            "29756/29756 [==============================] - 14s 459us/step - loss: 0.0290 - acc: 0.9901 - val_loss: 1.0991 - val_acc: 0.8105\n",
            "Epoch 30/30\n",
            "29756/29756 [==============================] - 14s 462us/step - loss: 0.0279 - acc: 0.9912 - val_loss: 1.1382 - val_acc: 0.8100\n",
            "Evaluation...\n",
            "Training Accuracy:  0.9941\n",
            "Validation Accuracy:  0.8100\n",
            "Testing Accuracy:  0.8174\n"
          ],
          "name": "stdout"
        },
        {
          "output_type": "display_data",
          "data": {
            "image/png": "[encoded data removed]",
            "text/plain": [
              "<Figure size 1440x360 with 2 Axes>"
            ]
          },
          "metadata": {
            "tags": []
          }
        }
      ]
    },
    {
      "cell_type": "code",
      "metadata": {
        "id": "GXxXYGN4yV5D",
        "colab_type": "code",
        "outputId": "d54d726d-f935-4d94-afa0-96ccb23ffa88",
        "colab": {
          "base_uri": "https://localhost:8080/",
          "height": 1000
        }
      },
      "source": [
        "run_nn_model_reduce_size(training_data, validation_data, testing_data, epochs=30)"
      ],
      "execution_count": 0,
      "outputs": [
        {
          "output_type": "stream",
          "text": [
            "Building Vectorizer...\n",
            "Loading model from file core_nlp/models/pretrained_tokenizer.crfsuite\n",
            "Vocabulary size :51972\n",
            "Reduce dimension to 400...\n",
            "Building NN model...\n",
            "_________________________________________________________________\n",
            "Layer (type)                 Output Shape              Param #   \n",
            "=================================================================\n",
            "dense_5 (Dense)              (None, 10)                4010      \n",
            "_________________________________________________________________\n",
            "dense_6 (Dense)              (None, 1)                 11        \n",
            "=================================================================\n",
            "Total params: 4,021\n",
            "Trainable params: 4,021\n",
            "Non-trainable params: 0\n",
            "_________________________________________________________________\n",
            "None\n",
            "Training NN model...\n",
            "Train on 29756 samples, validate on 9930 samples\n",
            "Epoch 1/30\n",
            "29756/29756 [==============================] - 2s 58us/step - loss: 0.4601 - acc: 0.7969 - val_loss: 0.3385 - val_acc: 0.8665\n",
            "Epoch 2/30\n",
            "29756/29756 [==============================] - 2s 50us/step - loss: 0.3174 - acc: 0.8744 - val_loss: 0.3127 - val_acc: 0.8740\n",
            "Epoch 3/30\n",
            "29756/29756 [==============================] - 1s 50us/step - loss: 0.3024 - acc: 0.8786 - val_loss: 0.3102 - val_acc: 0.8732\n",
            "Epoch 4/30\n",
            "29756/29756 [==============================] - 1s 49us/step - loss: 0.2977 - acc: 0.8796 - val_loss: 0.3081 - val_acc: 0.8747\n",
            "Epoch 5/30\n",
            "29756/29756 [==============================] - 1s 49us/step - loss: 0.2946 - acc: 0.8804 - val_loss: 0.3103 - val_acc: 0.8727\n",
            "Epoch 6/30\n",
            "29756/29756 [==============================] - 1s 49us/step - loss: 0.2909 - acc: 0.8813 - val_loss: 0.3074 - val_acc: 0.8756\n",
            "Epoch 7/30\n",
            "29756/29756 [==============================] - 1s 49us/step - loss: 0.2882 - acc: 0.8822 - val_loss: 0.3077 - val_acc: 0.8757\n",
            "Epoch 8/30\n",
            "29756/29756 [==============================] - 1s 50us/step - loss: 0.2849 - acc: 0.8833 - val_loss: 0.3070 - val_acc: 0.8744\n",
            "Epoch 9/30\n",
            "29756/29756 [==============================] - 1s 49us/step - loss: 0.2824 - acc: 0.8845 - val_loss: 0.3063 - val_acc: 0.8746\n",
            "Epoch 10/30\n",
            "29756/29756 [==============================] - 1s 49us/step - loss: 0.2793 - acc: 0.8856 - val_loss: 0.3054 - val_acc: 0.8737\n",
            "Epoch 11/30\n",
            "29756/29756 [==============================] - 1s 49us/step - loss: 0.2766 - acc: 0.8859 - val_loss: 0.3065 - val_acc: 0.8731\n",
            "Epoch 12/30\n",
            "29756/29756 [==============================] - 1s 49us/step - loss: 0.2734 - acc: 0.8874 - val_loss: 0.3100 - val_acc: 0.8711\n",
            "Epoch 13/30\n",
            "29756/29756 [==============================] - 1s 49us/step - loss: 0.2711 - acc: 0.8895 - val_loss: 0.3067 - val_acc: 0.8718\n",
            "Epoch 14/30\n",
            "29756/29756 [==============================] - 1s 49us/step - loss: 0.2673 - acc: 0.8907 - val_loss: 0.3086 - val_acc: 0.8732\n",
            "Epoch 15/30\n",
            "29756/29756 [==============================] - 1s 50us/step - loss: 0.2650 - acc: 0.8896 - val_loss: 0.3099 - val_acc: 0.8724\n",
            "Epoch 16/30\n",
            "29756/29756 [==============================] - 1s 49us/step - loss: 0.2627 - acc: 0.8929 - val_loss: 0.3108 - val_acc: 0.8728\n",
            "Epoch 17/30\n",
            "29756/29756 [==============================] - 1s 50us/step - loss: 0.2597 - acc: 0.8943 - val_loss: 0.3099 - val_acc: 0.8720\n",
            "Epoch 18/30\n",
            "29756/29756 [==============================] - 1s 49us/step - loss: 0.2573 - acc: 0.8950 - val_loss: 0.3104 - val_acc: 0.8724\n",
            "Epoch 19/30\n",
            "29756/29756 [==============================] - 1s 48us/step - loss: 0.2550 - acc: 0.8952 - val_loss: 0.3144 - val_acc: 0.8708\n",
            "Epoch 20/30\n",
            "29756/29756 [==============================] - 1s 49us/step - loss: 0.2525 - acc: 0.8966 - val_loss: 0.3128 - val_acc: 0.8719\n",
            "Epoch 21/30\n",
            "29756/29756 [==============================] - 1s 49us/step - loss: 0.2505 - acc: 0.8970 - val_loss: 0.3138 - val_acc: 0.8713\n",
            "Epoch 22/30\n",
            "29756/29756 [==============================] - 1s 49us/step - loss: 0.2482 - acc: 0.8980 - val_loss: 0.3144 - val_acc: 0.8698\n",
            "Epoch 23/30\n",
            "29756/29756 [==============================] - 1s 49us/step - loss: 0.2454 - acc: 0.8993 - val_loss: 0.3156 - val_acc: 0.8713\n",
            "Epoch 24/30\n",
            "29756/29756 [==============================] - 1s 50us/step - loss: 0.2432 - acc: 0.8992 - val_loss: 0.3198 - val_acc: 0.8702\n",
            "Epoch 25/30\n",
            "29756/29756 [==============================] - 1s 48us/step - loss: 0.2415 - acc: 0.9002 - val_loss: 0.3192 - val_acc: 0.8687\n",
            "Epoch 26/30\n",
            "29756/29756 [==============================] - 1s 49us/step - loss: 0.2394 - acc: 0.9018 - val_loss: 0.3191 - val_acc: 0.8691\n",
            "Epoch 27/30\n",
            "29756/29756 [==============================] - 1s 49us/step - loss: 0.2371 - acc: 0.9030 - val_loss: 0.3210 - val_acc: 0.8699\n",
            "Epoch 28/30\n",
            "29756/29756 [==============================] - 1s 48us/step - loss: 0.2352 - acc: 0.9034 - val_loss: 0.3237 - val_acc: 0.8663\n",
            "Epoch 29/30\n",
            "29756/29756 [==============================] - 1s 49us/step - loss: 0.2333 - acc: 0.9035 - val_loss: 0.3270 - val_acc: 0.8644\n",
            "Epoch 30/30\n",
            "29756/29756 [==============================] - 1s 48us/step - loss: 0.2316 - acc: 0.9047 - val_loss: 0.3294 - val_acc: 0.8657\n",
            "Evaluation...\n",
            "Training Accuracy:  0.9105\n",
            "Validation Accuracy:  0.8657\n",
            "Testing Accuracy:  0.8758\n"
          ],
          "name": "stdout"
        },
        {
          "output_type": "display_data",
          "data": {
            "image/png": "[encoded data removed]",
            "text/plain": [
              "<Figure size 1440x360 with 2 Axes>"
            ]
          },
          "metadata": {
            "tags": []
          }
        }
      ]
    },
    {
      "cell_type": "markdown",
      "metadata": {
        "id": "0gTNX1y8FuD9",
        "colab_type": "text"
      },
      "source": [
        "## NN with Embedding layer"
      ]
    },
    {
      "cell_type": "code",
      "metadata": {
        "id": "H32A9gsm7VhX",
        "colab_type": "code",
        "colab": {}
      },
      "source": [
        "def build_nn_with_embedding(input_dim, output_dim, input_length):\n",
        "  model = Sequential()\n",
        "  model.add(layers.Embedding(input_dim=input_dim, output_dim=output_dim, \n",
        "                           input_length=input_length))\n",
        "  model.add(layers.GlobalAveragePooling1D())\n",
        "  model.add(layers.Dropout(0.5))\n",
        "  model.add(layers.Dense(64, activation='relu'))\n",
        "  model.add(layers.Dropout(0.5))\n",
        "  model.add(layers.Dense(1, activation='sigmoid'))\n",
        "  return model\n",
        "\n",
        "def run_nn_with_embedding(training_data, validation_data\n",
        "               , testing_data, embedding_dim=100, epochs=10, batch_size=100):\n",
        "  print(\"Tokenizing...\")\n",
        "  tokenizer = get_tokenizer()\n",
        "  training_tokens = tokenize_sentences(training_data[review_col].values, tokenizer)\n",
        "  validation_tokens = tokenize_sentences(validation_data[review_col].values, tokenizer)\n",
        "  testing_tokens = tokenize_sentences(testing_data[review_col].values, tokenizer)\n",
        "  list_tokens = np.concatenate((training_tokens, validation_tokens, testing_tokens))\n",
        "  \n",
        "  print(\"Building dictionary...\")\n",
        "  dictionary = Dictionary(list_tokens)\n",
        "  \n",
        "  print(\"Transforming review to token index...\")\n",
        "  # Since dictionary start at index 0, I need to add 1, later I want to pad with 0\n",
        "  X_train = [np.array(dictionary.doc2idx(tokens))+1 for tokens in training_tokens]\n",
        "  y_train = training_data[label_col].values\n",
        "\n",
        "  X_val = [np.array(dictionary.doc2idx(tokens))+1 for tokens in validation_tokens]\n",
        "  y_val = validation_data[label_col].values\n",
        "\n",
        "  X_test = [np.array(dictionary.doc2idx(tokens))+1 for tokens in testing_tokens]\n",
        "  y_test = testing_data[label_col].values\n",
        "\n",
        "  vocab_size = len(dictionary) + 1 # Add 1 for index 0 when padding\n",
        "  print(\"Vocabulary size: {}\".format(vocab_size))\n",
        "  max_len = find_max_len_in_matrices(X_train, X_val, X_test)\n",
        "  print(\"Max length of review: {}\".format(max_len))\n",
        "  \n",
        "  X_train = pad_sequences(X_train, padding='post', maxlen=max_len)\n",
        "  X_val = pad_sequences(X_val, padding='post', maxlen=max_len)\n",
        "  X_test = pad_sequences(X_test, padding='post', maxlen=max_len)\n",
        "\n",
        "  print(\"Building model...\")\n",
        "  model = build_nn_with_embedding(vocab_size, embedding_dim, max_len)\n",
        "  model.compile(optimizer='adam', loss='binary_crossentropy', metrics=['accuracy'])\n",
        "  print(model.summary())\n",
        "\n",
        "  history = model.fit(X_train, y_train, epochs=epochs\n",
        "                      , validation_data=(X_val, y_val), batch_size=batch_size)\n",
        "  plot_history(history)\n",
        "  print(\"Evaluation...\")\n",
        "  evaluate_nn(model, X_train, y_train, X_val, y_val, X_test, y_test)"
      ],
      "execution_count": 0,
      "outputs": []
    },
    {
      "cell_type": "code",
      "metadata": {
        "id": "ii4qFVFd7cNU",
        "colab_type": "code",
        "outputId": "4fe74eaa-4816-40a3-8766-e08b0e1d4c31",
        "colab": {
          "base_uri": "https://localhost:8080/",
          "height": 1000
        }
      },
      "source": [
        "run_nn_with_embedding(training_data, validation_data\n",
        "               , testing_data, embedding_dim=100, epochs=20, batch_size=64)"
      ],
      "execution_count": 0,
      "outputs": [
        {
          "output_type": "stream",
          "text": [
            "Building dictionary...\n",
            "Transforming review to token index...\n",
            "Vocabulary size: 60538\n",
            "Max length of review: 1149\n"
          ],
          "name": "stdout"
        },
        {
          "output_type": "stream",
          "text": [
            "W0707 16:05:22.789094 139647300614016 deprecation.py:506] From /usr/local/lib/python3.6/dist-packages/keras/backend/tensorflow_backend.py:3445: calling dropout (from tensorflow.python.ops.nn_ops) with keep_prob is deprecated and will be removed in a future version.\n",
            "Instructions for updating:\n",
            "Please use `rate` instead of `keep_prob`. Rate should be set to `rate = 1 - keep_prob`.\n"
          ],
          "name": "stderr"
        },
        {
          "output_type": "stream",
          "text": [
            "Building model...\n",
            "_________________________________________________________________\n",
            "Layer (type)                 Output Shape              Param #   \n",
            "=================================================================\n",
            "embedding_4 (Embedding)      (None, 1149, 100)         6053800   \n",
            "_________________________________________________________________\n",
            "global_average_pooling1d_3 ( (None, 100)               0         \n",
            "_________________________________________________________________\n",
            "dropout_1 (Dropout)          (None, 100)               0         \n",
            "_________________________________________________________________\n",
            "dense_7 (Dense)              (None, 64)                6464      \n",
            "_________________________________________________________________\n",
            "dropout_2 (Dropout)          (None, 64)                0         \n",
            "_________________________________________________________________\n",
            "dense_8 (Dense)              (None, 1)                 65        \n",
            "=================================================================\n",
            "Total params: 6,060,329\n",
            "Trainable params: 6,060,329\n",
            "Non-trainable params: 0\n",
            "_________________________________________________________________\n",
            "None\n",
            "Train on 29756 samples, validate on 9930 samples\n",
            "Epoch 1/20\n",
            "29756/29756 [==============================] - 8s 279us/step - loss: 0.6808 - acc: 0.5605 - val_loss: 0.6150 - val_acc: 0.8113\n",
            "Epoch 2/20\n",
            "29756/29756 [==============================] - 8s 257us/step - loss: 0.4600 - acc: 0.7997 - val_loss: 0.3459 - val_acc: 0.8595\n",
            "Epoch 3/20\n",
            "29756/29756 [==============================] - 8s 256us/step - loss: 0.3330 - acc: 0.8604 - val_loss: 0.3285 - val_acc: 0.8557\n",
            "Epoch 4/20\n",
            "29756/29756 [==============================] - 8s 257us/step - loss: 0.3020 - acc: 0.8749 - val_loss: 0.3114 - val_acc: 0.8656\n",
            "Epoch 5/20\n",
            "29756/29756 [==============================] - 8s 258us/step - loss: 0.2801 - acc: 0.8863 - val_loss: 0.3002 - val_acc: 0.8738\n",
            "Epoch 6/20\n",
            "29756/29756 [==============================] - 8s 258us/step - loss: 0.2661 - acc: 0.8935 - val_loss: 0.2909 - val_acc: 0.8804\n",
            "Epoch 7/20\n",
            "29756/29756 [==============================] - 8s 257us/step - loss: 0.2553 - acc: 0.9003 - val_loss: 0.2932 - val_acc: 0.8782\n",
            "Epoch 8/20\n",
            "29756/29756 [==============================] - 8s 257us/step - loss: 0.2491 - acc: 0.9012 - val_loss: 0.2853 - val_acc: 0.8845\n",
            "Epoch 9/20\n",
            "29756/29756 [==============================] - 8s 256us/step - loss: 0.2373 - acc: 0.9073 - val_loss: 0.2894 - val_acc: 0.8818\n",
            "Epoch 10/20\n",
            "29756/29756 [==============================] - 8s 257us/step - loss: 0.2352 - acc: 0.9082 - val_loss: 0.2868 - val_acc: 0.8820\n",
            "Epoch 11/20\n",
            "29756/29756 [==============================] - 8s 257us/step - loss: 0.2254 - acc: 0.9143 - val_loss: 0.2985 - val_acc: 0.8780\n",
            "Epoch 12/20\n",
            "29756/29756 [==============================] - 8s 257us/step - loss: 0.2198 - acc: 0.9148 - val_loss: 0.2864 - val_acc: 0.8840\n",
            "Epoch 13/20\n",
            "29756/29756 [==============================] - 8s 256us/step - loss: 0.2115 - acc: 0.9185 - val_loss: 0.2929 - val_acc: 0.8839\n",
            "Epoch 14/20\n",
            "29756/29756 [==============================] - 8s 256us/step - loss: 0.2020 - acc: 0.9238 - val_loss: 0.3030 - val_acc: 0.8807\n",
            "Epoch 15/20\n",
            "29756/29756 [==============================] - 8s 257us/step - loss: 0.2038 - acc: 0.9226 - val_loss: 0.3080 - val_acc: 0.8794\n",
            "Epoch 16/20\n",
            "29756/29756 [==============================] - 8s 258us/step - loss: 0.1940 - acc: 0.9276 - val_loss: 0.3658 - val_acc: 0.8534\n",
            "Epoch 17/20\n",
            "29756/29756 [==============================] - 8s 257us/step - loss: 0.1901 - acc: 0.9281 - val_loss: 0.3277 - val_acc: 0.8675\n",
            "Epoch 18/20\n",
            "29756/29756 [==============================] - 8s 257us/step - loss: 0.1854 - acc: 0.9304 - val_loss: 0.3179 - val_acc: 0.8753\n",
            "Epoch 19/20\n",
            "29756/29756 [==============================] - 8s 257us/step - loss: 0.1827 - acc: 0.9303 - val_loss: 0.3151 - val_acc: 0.8801\n",
            "Epoch 20/20\n",
            "29756/29756 [==============================] - 8s 256us/step - loss: 0.1762 - acc: 0.9336 - val_loss: 0.3209 - val_acc: 0.8787\n",
            "Evaluation...\n",
            "Training Accuracy:  0.9484\n",
            "Validation Accuracy:  0.8787\n",
            "Testing Accuracy:  0.8853\n"
          ],
          "name": "stdout"
        },
        {
          "output_type": "display_data",
          "data": {
            "image/png": "[encoded data removed]",
            "text/plain": [
              "<Figure size 1440x360 with 2 Axes>"
            ]
          },
          "metadata": {
            "tags": []
          }
        }
      ]
    },
    {
      "cell_type": "markdown",
      "metadata": {
        "id": "Bv9tThdRXyMr",
        "colab_type": "text"
      },
      "source": [
        "## NN with pre-trained embedding"
      ]
    },
    {
      "cell_type": "code",
      "metadata": {
        "id": "Jff33JoiAnX7",
        "colab_type": "code",
        "colab": {}
      },
      "source": [
        "def build_embeding_matrix(word_vectors, vocab_size, vector_dim):\n",
        "  embedding_matrix = np.zeros((vocab_size, vector_dim))\n",
        "  for index in range(1, vocab_size):\n",
        "    # zero-based index\n",
        "    word = word_vectors.index2word[index-1]\n",
        "    embedding_matrix[index] = word_vectors[word]\n",
        "  \n",
        "  return embedding_matrix\n",
        "\n",
        "def build_nn_with_pretrained_embedding(weights, input_length, trainable=False):\n",
        "  print(\"Trainable: {}\".format(trainable))\n",
        "  model = Sequential()\n",
        "  input_dim = np.shape(weights)[0]\n",
        "  output_dim = np.shape(weights)[1]\n",
        "  model.add(layers.Embedding(input_dim=input_dim, output_dim=output_dim, input_length=input_length\n",
        "                             , embeddings_initializer=Constant(weights)\n",
        "                            , trainable=trainable))\n",
        "  model.add(layers.GlobalAveragePooling1D())\n",
        "  model.add(layers.Dropout(0.5))\n",
        "  model.add(layers.Dense(64, activation='relu'))\n",
        "  model.add(layers.Dropout(0.5))\n",
        "  model.add(layers.Dense(1, activation='sigmoid'))\n",
        "  model.compile(optimizer='adam', loss='binary_crossentropy', metrics=['accuracy'])\n",
        "  print(model.summary())\n",
        "  \n",
        "  return model\n",
        "\n",
        "def run_nn_with_pretrained_embedding(training_data, validation_data\n",
        "               , testing_data, pretrained_file, trainable=False, epochs=10, batch_size=100):\n",
        "  print(\"Tokenizing...\")\n",
        "  tokenizer = get_tokenizer()\n",
        "  training_tokens = tokenize_sentences(training_data[review_col].values, tokenizer)\n",
        "  validation_tokens = tokenize_sentences(validation_data[review_col].values, tokenizer)\n",
        "  testing_tokens = tokenize_sentences(testing_data[review_col].values, tokenizer)\n",
        "\n",
        "  print(\"Loading word2vec...\")\n",
        "  word_vectors = KeyedVectors.load_word2vec_format(pretrained_file)\n",
        "\n",
        "  X_train = transform_sentences_to_indices(word_vectors, training_tokens)\n",
        "  y_train = training_data[label_col].values\n",
        "\n",
        "  X_val = transform_sentences_to_indices(word_vectors, validation_tokens)\n",
        "  y_val = validation_data[label_col].values\n",
        "\n",
        "  X_test = transform_sentences_to_indices(word_vectors, testing_tokens)\n",
        "  y_test = testing_data[label_col].values\n",
        "\n",
        "  vocab_size = len(word_vectors.vocab) + 1 # Add 1 for index 0 when padding\n",
        "  print(\"Vocabulary size: {}\".format(vocab_size))\n",
        "  max_len = find_max_len_in_matrices(X_train, X_val, X_test)\n",
        "  print(\"Max length of review: {}\".format(max_len))\n",
        "\n",
        "  X_train = pad_sequences(X_train, padding='post', maxlen=max_len)\n",
        "  X_val = pad_sequences(X_val, padding='post', maxlen=max_len)\n",
        "  X_test = pad_sequences(X_test, padding='post', maxlen=max_len)\n",
        "\n",
        "  print(\"Building embedding matrix...\")\n",
        "  vector_dim = len(word_vectors[word_vectors.index2word[0]])\n",
        "  embedding_matrix = build_embeding_matrix(word_vectors, vocab_size, vector_dim)\n",
        "\n",
        "  print(\"Building model...\")\n",
        "  model = build_nn_with_pretrained_embedding(embedding_matrix, max_len, trainable=trainable)\n",
        "  print(\"Training model...\")\n",
        "  history = model.fit(X_train, y_train, epochs=epochs\n",
        "                      , validation_data=(X_val, y_val), batch_size=batch_size)\n",
        "  plot_history(history)\n",
        "  print(\"Evaluation...\")\n",
        "  evaluate_nn(model, X_train, y_train, X_val, y_val, X_test, y_test)"
      ],
      "execution_count": 0,
      "outputs": []
    },
    {
      "cell_type": "code",
      "metadata": {
        "id": "_0e-K5PSgGSr",
        "colab_type": "code",
        "outputId": "75aa46d6-b21e-45e2-8e6b-f2d80bf399bd",
        "colab": {
          "base_uri": "https://localhost:8080/",
          "height": 1000
        }
      },
      "source": [
        "# use pre-trained embedding from unlabeled dataset\n",
        "run_nn_with_pretrained_embedding(training_data, validation_data, testing_data\n",
        "                                 , unlabeled_w2v_file, trainable=True, epochs=20, batch_size=64)"
      ],
      "execution_count": 0,
      "outputs": [
        {
          "output_type": "stream",
          "text": [
            "Loading word2vec...\n"
          ],
          "name": "stdout"
        },
        {
          "output_type": "stream",
          "text": [
            "/usr/local/lib/python3.6/dist-packages/smart_open/smart_open_lib.py:398: UserWarning: This function is deprecated, use smart_open.open instead. See the migration notes for details: https://github.com/RaRe-Technologies/smart_open/blob/master/README.rst#migrating-to-the-new-open-function\n",
            "  'See the migration notes for details: %s' % _MIGRATION_NOTES_URL\n"
          ],
          "name": "stderr"
        },
        {
          "output_type": "stream",
          "text": [
            "Vocabulary size: 170104\n",
            "Max length of review: 1149\n",
            "Building embedding matrix...\n",
            "Building model...\n",
            "Trainable: True\n",
            "_________________________________________________________________\n",
            "Layer (type)                 Output Shape              Param #   \n",
            "=================================================================\n",
            "embedding_10 (Embedding)     (None, 1149, 100)         17010400  \n",
            "_________________________________________________________________\n",
            "global_average_pooling1d_10  (None, 100)               0         \n",
            "_________________________________________________________________\n",
            "dropout_17 (Dropout)         (None, 100)               0         \n",
            "_________________________________________________________________\n",
            "dense_21 (Dense)             (None, 64)                6464      \n",
            "_________________________________________________________________\n",
            "dropout_18 (Dropout)         (None, 64)                0         \n",
            "_________________________________________________________________\n",
            "dense_22 (Dense)             (None, 1)                 65        \n",
            "=================================================================\n",
            "Total params: 17,016,929\n",
            "Trainable params: 17,016,929\n",
            "Non-trainable params: 0\n",
            "_________________________________________________________________\n",
            "None\n",
            "Training model...\n",
            "Train on 29756 samples, validate on 9930 samples\n",
            "Epoch 1/20\n",
            "29756/29756 [==============================] - 9s 316us/step - loss: 0.5943 - acc: 0.6946 - val_loss: 0.4597 - val_acc: 0.7994\n",
            "Epoch 2/20\n",
            "29756/29756 [==============================] - 8s 267us/step - loss: 0.4415 - acc: 0.8056 - val_loss: 0.3646 - val_acc: 0.8524\n",
            "Epoch 3/20\n",
            "29756/29756 [==============================] - 8s 267us/step - loss: 0.3902 - acc: 0.8324 - val_loss: 0.3369 - val_acc: 0.8659\n",
            "Epoch 4/20\n",
            "29756/29756 [==============================] - 8s 267us/step - loss: 0.3695 - acc: 0.8424 - val_loss: 0.3287 - val_acc: 0.8635\n",
            "Epoch 5/20\n",
            "29756/29756 [==============================] - 8s 265us/step - loss: 0.3502 - acc: 0.8496 - val_loss: 0.3139 - val_acc: 0.8729\n",
            "Epoch 6/20\n",
            "29756/29756 [==============================] - 8s 266us/step - loss: 0.3405 - acc: 0.8583 - val_loss: 0.3066 - val_acc: 0.8754\n",
            "Epoch 7/20\n",
            "29756/29756 [==============================] - 8s 268us/step - loss: 0.3256 - acc: 0.8630 - val_loss: 0.3014 - val_acc: 0.8777\n",
            "Epoch 8/20\n",
            "29756/29756 [==============================] - 8s 266us/step - loss: 0.3218 - acc: 0.8660 - val_loss: 0.3012 - val_acc: 0.8733\n",
            "Epoch 9/20\n",
            "29756/29756 [==============================] - 8s 265us/step - loss: 0.3106 - acc: 0.8716 - val_loss: 0.2956 - val_acc: 0.8764\n",
            "Epoch 10/20\n",
            "29756/29756 [==============================] - 8s 267us/step - loss: 0.3060 - acc: 0.8751 - val_loss: 0.3007 - val_acc: 0.8738\n",
            "Epoch 11/20\n",
            "29756/29756 [==============================] - 8s 267us/step - loss: 0.2981 - acc: 0.8762 - val_loss: 0.2972 - val_acc: 0.8754\n",
            "Epoch 12/20\n",
            "29756/29756 [==============================] - 8s 265us/step - loss: 0.2977 - acc: 0.8784 - val_loss: 0.2891 - val_acc: 0.8817\n",
            "Epoch 13/20\n",
            "29756/29756 [==============================] - 8s 266us/step - loss: 0.2877 - acc: 0.8813 - val_loss: 0.2910 - val_acc: 0.8782\n",
            "Epoch 14/20\n",
            "29756/29756 [==============================] - 8s 266us/step - loss: 0.2865 - acc: 0.8823 - val_loss: 0.2869 - val_acc: 0.8812\n",
            "Epoch 15/20\n",
            "29756/29756 [==============================] - 8s 266us/step - loss: 0.2825 - acc: 0.8834 - val_loss: 0.2864 - val_acc: 0.8809\n",
            "Epoch 16/20\n",
            "29756/29756 [==============================] - 8s 266us/step - loss: 0.2758 - acc: 0.8871 - val_loss: 0.2878 - val_acc: 0.8793\n",
            "Epoch 17/20\n",
            "29756/29756 [==============================] - 8s 266us/step - loss: 0.2747 - acc: 0.8884 - val_loss: 0.2839 - val_acc: 0.8824\n",
            "Epoch 18/20\n",
            "29756/29756 [==============================] - 8s 269us/step - loss: 0.2699 - acc: 0.8912 - val_loss: 0.2845 - val_acc: 0.8804\n",
            "Epoch 19/20\n",
            "29756/29756 [==============================] - 8s 270us/step - loss: 0.2681 - acc: 0.8924 - val_loss: 0.2871 - val_acc: 0.8809\n",
            "Epoch 20/20\n",
            "29756/29756 [==============================] - 8s 265us/step - loss: 0.2658 - acc: 0.8912 - val_loss: 0.2821 - val_acc: 0.8828\n",
            "Evaluation...\n",
            "Training Accuracy:  0.9130\n",
            "Validation Accuracy:  0.8828\n",
            "Testing Accuracy:  0.8855\n"
          ],
          "name": "stdout"
        },
        {
          "output_type": "display_data",
          "data": {
            "image/png": "[encoded data removed]",
            "text/plain": [
              "<Figure size 1440x360 with 2 Axes>"
            ]
          },
          "metadata": {
            "tags": []
          }
        }
      ]
    },
    {
      "cell_type": "code",
      "metadata": {
        "id": "gQJ8NJCrMvIA",
        "colab_type": "code",
        "outputId": "18eda941-0c53-4768-b57a-c6d4155f436a",
        "colab": {
          "base_uri": "https://localhost:8080/",
          "height": 1000
        }
      },
      "source": [
        "# use pre-trained embedding from labeled dataset\n",
        "run_nn_with_pretrained_embedding(training_data, validation_data, testing_data\n",
        "                                 , w2v_file, trainable=False, epochs=20, batch_size=64)"
      ],
      "execution_count": 0,
      "outputs": [
        {
          "output_type": "stream",
          "text": [
            "Loading word2vec...\n"
          ],
          "name": "stdout"
        },
        {
          "output_type": "stream",
          "text": [
            "/usr/local/lib/python3.6/dist-packages/smart_open/smart_open_lib.py:398: UserWarning: This function is deprecated, use smart_open.open instead. See the migration notes for details: https://github.com/RaRe-Technologies/smart_open/blob/master/README.rst#migrating-to-the-new-open-function\n",
            "  'See the migration notes for details: %s' % _MIGRATION_NOTES_URL\n"
          ],
          "name": "stderr"
        },
        {
          "output_type": "stream",
          "text": [
            "Vocabulary size: 60538\n",
            "Max length of review: 1149\n",
            "Building embedding matrix...\n",
            "Building model...\n",
            "Trainable: False\n",
            "_________________________________________________________________\n",
            "Layer (type)                 Output Shape              Param #   \n",
            "=================================================================\n",
            "embedding_2 (Embedding)      (None, 1149, 100)         6053800   \n",
            "_________________________________________________________________\n",
            "global_average_pooling1d_1 ( (None, 100)               0         \n",
            "_________________________________________________________________\n",
            "dropout_2 (Dropout)          (None, 100)               0         \n",
            "_________________________________________________________________\n",
            "dense_2 (Dense)              (None, 64)                6464      \n",
            "_________________________________________________________________\n",
            "dropout_3 (Dropout)          (None, 64)                0         \n",
            "_________________________________________________________________\n",
            "dense_3 (Dense)              (None, 1)                 65        \n",
            "=================================================================\n",
            "Total params: 6,060,329\n",
            "Trainable params: 6,529\n",
            "Non-trainable params: 6,053,800\n",
            "_________________________________________________________________\n",
            "None\n",
            "Training model...\n",
            "Train on 29756 samples, validate on 9930 samples\n",
            "Epoch 1/20\n",
            "29756/29756 [==============================] - 2s 82us/step - loss: 0.5862 - acc: 0.7127 - val_loss: 0.4767 - val_acc: 0.8026\n",
            "Epoch 2/20\n",
            "29756/29756 [==============================] - 2s 65us/step - loss: 0.4971 - acc: 0.7733 - val_loss: 0.4261 - val_acc: 0.8259\n",
            "Epoch 3/20\n",
            "29756/29756 [==============================] - 2s 64us/step - loss: 0.4796 - acc: 0.7793 - val_loss: 0.4132 - val_acc: 0.8304\n",
            "Epoch 4/20\n",
            "29756/29756 [==============================] - 2s 64us/step - loss: 0.4694 - acc: 0.7819 - val_loss: 0.4048 - val_acc: 0.8337\n",
            "Epoch 5/20\n",
            "29756/29756 [==============================] - 2s 63us/step - loss: 0.4641 - acc: 0.7818 - val_loss: 0.4022 - val_acc: 0.8393\n",
            "Epoch 6/20\n",
            "29756/29756 [==============================] - 2s 64us/step - loss: 0.4608 - acc: 0.7865 - val_loss: 0.3943 - val_acc: 0.8380\n",
            "Epoch 7/20\n",
            "29756/29756 [==============================] - 2s 64us/step - loss: 0.4591 - acc: 0.7881 - val_loss: 0.3954 - val_acc: 0.8425\n",
            "Epoch 8/20\n",
            "29756/29756 [==============================] - 2s 64us/step - loss: 0.4530 - acc: 0.7928 - val_loss: 0.3908 - val_acc: 0.8429\n",
            "Epoch 9/20\n",
            "29756/29756 [==============================] - 2s 65us/step - loss: 0.4547 - acc: 0.7906 - val_loss: 0.3925 - val_acc: 0.8374\n",
            "Epoch 10/20\n",
            "29756/29756 [==============================] - 2s 65us/step - loss: 0.4540 - acc: 0.7907 - val_loss: 0.3953 - val_acc: 0.8370\n",
            "Epoch 11/20\n",
            "29756/29756 [==============================] - 2s 65us/step - loss: 0.4555 - acc: 0.7897 - val_loss: 0.3928 - val_acc: 0.8396\n",
            "Epoch 12/20\n",
            "29756/29756 [==============================] - 2s 65us/step - loss: 0.4526 - acc: 0.7901 - val_loss: 0.3914 - val_acc: 0.8376\n",
            "Epoch 13/20\n",
            "29756/29756 [==============================] - 2s 65us/step - loss: 0.4544 - acc: 0.7903 - val_loss: 0.3929 - val_acc: 0.8414\n",
            "Epoch 14/20\n",
            "29756/29756 [==============================] - 2s 66us/step - loss: 0.4539 - acc: 0.7883 - val_loss: 0.3913 - val_acc: 0.8400\n",
            "Epoch 15/20\n",
            "29756/29756 [==============================] - 2s 65us/step - loss: 0.4563 - acc: 0.7896 - val_loss: 0.3892 - val_acc: 0.8451\n",
            "Epoch 16/20\n",
            "29756/29756 [==============================] - 2s 64us/step - loss: 0.4499 - acc: 0.7904 - val_loss: 0.3907 - val_acc: 0.8383\n",
            "Epoch 17/20\n",
            "29756/29756 [==============================] - 2s 65us/step - loss: 0.4522 - acc: 0.7905 - val_loss: 0.3886 - val_acc: 0.8400\n",
            "Epoch 18/20\n",
            "29756/29756 [==============================] - 2s 66us/step - loss: 0.4519 - acc: 0.7903 - val_loss: 0.3880 - val_acc: 0.8427\n",
            "Epoch 19/20\n",
            "29756/29756 [==============================] - 2s 66us/step - loss: 0.4533 - acc: 0.7928 - val_loss: 0.3896 - val_acc: 0.8443\n",
            "Epoch 20/20\n",
            "29756/29756 [==============================] - 2s 65us/step - loss: 0.4483 - acc: 0.7947 - val_loss: 0.3858 - val_acc: 0.8416\n",
            "Evaluation...\n",
            "Training Accuracy:  0.8398\n",
            "Validation Accuracy:  0.8416\n",
            "Testing Accuracy:  0.8380\n"
          ],
          "name": "stdout"
        },
        {
          "output_type": "display_data",
          "data": {
            "image/png": "[encoded data removed]",
            "text/plain": [
              "<Figure size 1440x360 with 2 Axes>"
            ]
          },
          "metadata": {
            "tags": []
          }
        }
      ]
    },
    {
      "cell_type": "markdown",
      "metadata": {
        "id": "yFgVjQre1vDG",
        "colab_type": "text"
      },
      "source": [
        "## LSTM"
      ]
    },
    {
      "cell_type": "code",
      "metadata": {
        "id": "WyGe04OmZLfV",
        "colab_type": "code",
        "cellView": "code",
        "colab": {}
      },
      "source": [
        "def build_LSTM_with_pretrained_embedding(weights, input_length, trainable=False):\n",
        "  print(\"Trainable: {}\".format(trainable))\n",
        "  model = Sequential()\n",
        "  input_dim = np.shape(weights)[0]\n",
        "  output_dim = np.shape(weights)[1]\n",
        "  \n",
        "  model.add(layers.Embedding(input_dim=input_dim, output_dim=output_dim, input_length=input_length\n",
        "                             , embeddings_initializer=Constant(weights)\n",
        "                            , trainable=trainable))\n",
        "  model.add(layers.CuDNNLSTM(64, return_sequences=True))\n",
        "  model.add(layers.AveragePooling1D(input_length))\n",
        "  model.add(layers.Flatten())\n",
        "  model.add(layers.Dropout(0.5))\n",
        "  model.add(layers.Dense(1, activation='sigmoid'))\n",
        "  model.compile(optimizer='adam', loss='binary_crossentropy', metrics=['accuracy'])\n",
        "  print(model.summary())\n",
        "  \n",
        "  return model\n",
        "\n",
        "def build_BiLSTM_with_pretrained_embedding(weights, input_length, trainable=False):\n",
        "  print(\"Trainable: {}\".format(trainable))\n",
        "  model = Sequential()\n",
        "  input_dim = np.shape(weights)[0]\n",
        "  output_dim = np.shape(weights)[1]\n",
        "  \n",
        "  model.add(layers.Embedding(input_dim=input_dim, output_dim=output_dim, input_length=input_length\n",
        "                             , embeddings_initializer=Constant(weights)\n",
        "                            , trainable=trainable))\n",
        "  model.add(layers.Bidirectional(layers.CuDNNLSTM(64, return_sequences=True)))\n",
        "  model.add(layers.AveragePooling1D(input_length))\n",
        "  model.add(layers.Flatten())\n",
        "  model.add(layers.Dropout(0.5))\n",
        "  model.add(layers.Dense(1, activation='sigmoid'))\n",
        "  model.compile(optimizer='adam', loss='binary_crossentropy', metrics=['accuracy'])\n",
        "  print(model.summary())\n",
        "  \n",
        "  return model\n",
        "\n",
        "def run_lstm_pretrained_embedding(training_data, validation_data\n",
        "               , testing_data, pretrained_file, trainable=False, epochs=10, batch_size=100):\n",
        "  print(\"Tokenizing...\")\n",
        "  tokenizer = get_tokenizer()\n",
        "  training_tokens = tokenize_sentences(training_data[review_col].values, tokenizer)\n",
        "  validation_tokens = tokenize_sentences(validation_data[review_col].values, tokenizer)\n",
        "  testing_tokens = tokenize_sentences(testing_data[review_col].values, tokenizer)\n",
        "\n",
        "  print(\"Loading word2vec...\")\n",
        "  word_vectors = KeyedVectors.load_word2vec_format(pretrained_file)\n",
        "\n",
        "  X_train = transform_sentences_to_indices(word_vectors, training_tokens)\n",
        "  y_train = training_data[label_col].values\n",
        "\n",
        "  X_val = transform_sentences_to_indices(word_vectors, validation_tokens)\n",
        "  y_val = validation_data[label_col].values\n",
        "\n",
        "  X_test = transform_sentences_to_indices(word_vectors, testing_tokens)\n",
        "  y_test = testing_data[label_col].values\n",
        "\n",
        "  vocab_size = len(word_vectors.vocab) + 1 # Add 1 for index 0 when padding\n",
        "  print(\"Vocabulary size: {}\".format(vocab_size))\n",
        "  max_len = find_max_len_in_matrices(X_train, X_val, X_test)\n",
        "  print(\"Max length of review: {}\".format(max_len))\n",
        "\n",
        "  X_train = pad_sequences(X_train, padding='post', maxlen=max_len)\n",
        "  X_val = pad_sequences(X_val, padding='post', maxlen=max_len)\n",
        "  X_test = pad_sequences(X_test, padding='post', maxlen=max_len)\n",
        "\n",
        "  vector_dim = len(word_vectors[word_vectors.index2word[0]])\n",
        "  print(\"Building embedding matrix...\")\n",
        "  embedding_matrix = build_embeding_matrix(word_vectors, vocab_size, vector_dim)\n",
        "\n",
        "  print(\"Building model...\")\n",
        "  model = build_LSTM_with_pretrained_embedding(embedding_matrix, max_len, trainable=trainable)\n",
        "  \n",
        "  print(\"Training model...\")\n",
        "  history = model.fit(X_train, y_train, epochs=epochs\n",
        "                      , validation_data=(X_val, y_val), batch_size=batch_size)\n",
        "  plot_history(history)\n",
        "  print(\"Evaluation...\")\n",
        "  evaluate_nn(model, X_train, y_train, X_val, y_val, X_test, y_test)\n",
        "  \n",
        "def run_bilstm_pretrained_embedding(training_data, validation_data\n",
        "               , testing_data, pretrained_file, trainable=False, epochs=10, batch_size=100):\n",
        "  print(\"Tokenizing...\")\n",
        "  tokenizer = get_tokenizer()\n",
        "  training_tokens = tokenize_sentences(training_data[review_col].values, tokenizer)\n",
        "  validation_tokens = tokenize_sentences(validation_data[review_col].values, tokenizer)\n",
        "  testing_tokens = tokenize_sentences(testing_data[review_col].values, tokenizer)\n",
        "\n",
        "  print(\"Loading word2vec...\")\n",
        "  word_vectors = KeyedVectors.load_word2vec_format(pretrained_file)\n",
        "\n",
        "  X_train = transform_sentences_to_indices(word_vectors, training_tokens)\n",
        "  y_train = training_data[label_col].values\n",
        "\n",
        "  X_val = transform_sentences_to_indices(word_vectors, validation_tokens)\n",
        "  y_val = validation_data[label_col].values\n",
        "\n",
        "  X_test = transform_sentences_to_indices(word_vectors, testing_tokens)\n",
        "  y_test = testing_data[label_col].values\n",
        "\n",
        "  vocab_size = len(word_vectors.vocab) + 1 # Add 1 for index 0 when padding\n",
        "  print(\"Vocabulary size: {}\".format(vocab_size))\n",
        "  max_len = find_max_len_in_matrices(X_train, X_val, X_test)\n",
        "  print(\"Max length of review: {}\".format(max_len))\n",
        "\n",
        "  X_train = pad_sequences(X_train, padding='post', maxlen=max_len)\n",
        "  X_val = pad_sequences(X_val, padding='post', maxlen=max_len)\n",
        "  X_test = pad_sequences(X_test, padding='post', maxlen=max_len)\n",
        "\n",
        "  vector_dim = len(word_vectors[word_vectors.index2word[0]])\n",
        "  print(\"Building embedding matrix...\")\n",
        "  embedding_matrix = build_embeding_matrix(word_vectors, vocab_size, vector_dim)\n",
        "\n",
        "  print(\"Building model...\")\n",
        "  model = build_BiLSTM_with_pretrained_embedding(embedding_matrix, max_len, trainable=trainable)\n",
        "  \n",
        "  print(\"Training model...\")\n",
        "  history = model.fit(X_train, y_train, epochs=epochs\n",
        "                      , validation_data=(X_val, y_val), batch_size=batch_size)\n",
        "  plot_history(history)\n",
        "  print(\"Evaluation...\")\n",
        "  evaluate_nn(model, X_train, y_train, X_val, y_val, X_test, y_test)"
      ],
      "execution_count": 0,
      "outputs": []
    },
    {
      "cell_type": "code",
      "metadata": {
        "id": "45b9LCFzFYs-",
        "colab_type": "code",
        "colab": {}
      },
      "source": [
        "run_lstm_pretrained_embedding(training_data, validation_data, testing_data\n",
        "                                           , pretrained_file=w2v_file, epochs=20, batch_size=64, trainable=True)"
      ],
      "execution_count": 0,
      "outputs": []
    },
    {
      "cell_type": "code",
      "metadata": {
        "id": "YhaANVu2ZlWT",
        "colab_type": "code",
        "colab": {}
      },
      "source": [
        "run_lstm_pretrained_embedding(training_data, validation_data, testing_data\n",
        "                             , pretrained_file=unlabeled_w2v_file, epochs=20, batch_size=64, trainable=True)"
      ],
      "execution_count": 0,
      "outputs": []
    },
    {
      "cell_type": "code",
      "metadata": {
        "id": "rb_jVQUpg845",
        "colab_type": "code",
        "colab": {}
      },
      "source": [
        "run_bilstm_pretrained_embedding(training_data, validation_data, testing_data\n",
        "                              , pretrained_file=w2v_10000_file, epochs=20, batch_size=64, trainable=True)"
      ],
      "execution_count": 0,
      "outputs": []
    },
    {
      "cell_type": "markdown",
      "metadata": {
        "id": "U-8vFTjd3g71",
        "colab_type": "text"
      },
      "source": [
        "# Final step"
      ]
    },
    {
      "cell_type": "markdown",
      "metadata": {
        "id": "F1FPVk5tO_Rm",
        "colab_type": "text"
      },
      "source": [
        "## Combine aspect and sentiment analysis"
      ]
    },
    {
      "cell_type": "code",
      "metadata": {
        "id": "lKsMJKCiPSRL",
        "colab_type": "code",
        "colab": {}
      },
      "source": [
        "from gensim.models import LdaModel\n",
        "from keras.models import load_model\n",
        "from datetime import datetime"
      ],
      "execution_count": 0,
      "outputs": []
    },
    {
      "cell_type": "code",
      "metadata": {
        "id": "bAKg3XxTPS0h",
        "colab_type": "code",
        "colab": {}
      },
      "source": [
        "unlabeled_data_file = \"/content/drive/My Drive/Master/2nd Semester/AdvMLDM/Project_AdvMLDM/dang/lda/cleaned_data.pkl\"\n",
        "lda_model_file = \"/content/drive/My Drive/Master/2nd Semester/AdvMLDM/Project_AdvMLDM/dang/lda/6_topics/lda_model\"\n",
        "dict_file = \"/content/drive/My Drive/Master/2nd Semester/AdvMLDM/Project_AdvMLDM/dang/lda/dict.txt\"\n",
        "sentiment_model_file = \"/content/drive/My Drive/Master/2nd Semester/AdvMLDM/Project_AdvMLDM/dang/best_model.h5\"\n",
        "final_result_file = \"/content/drive/My Drive/Master/2nd Semester/AdvMLDM/Project_AdvMLDM/dang/final_result.pkl\"\n",
        "\n",
        "result_col = \"result\"\n",
        "tokens_col = \"tokens\"\n",
        "topic_key = \"topic\"\n",
        "sentiment_key = \"sentiment\"\n",
        "brand_id_col = \"brand_link\"\n",
        "brand_name_col = \"brand_name\"\n",
        "\n",
        "topic_mapping = {\n",
        "    0: \"Thức uống\",\n",
        "    1: \"Món ăn\",\n",
        "    2: \"Phục vụ\",\n",
        "    3: \"Không gian\",\n",
        "    4: \"???\",\n",
        "    5: \"Giá - chất lượng\"\n",
        "}\n",
        "\n",
        "sentiment_mapping = {\n",
        "    0: \"Negative\",\n",
        "    1: \"Possitive\"\n",
        "}\n",
        "\n",
        "def read_unlabeled_data():\n",
        "  return pd.read_pickle(unlabeled_data_file)\n",
        "\n",
        "def load_dict():\n",
        "  return Dictionary.load_from_text(dict_file)\n",
        "  \n",
        "def load_lda_model():\n",
        "  return LdaModel.load(lda_model_file)\n",
        "\n",
        "def load_sentiment_model():\n",
        "  return load_model(sentiment_model_file)\n",
        "\n",
        "def rank_topic(tuples):\n",
        "  return sorted(tuples, key=lambda t: t[1], reverse = True)[0][0]\n",
        "\n",
        "def get_sentiment_id(score):\n",
        "  if score > 0.5:\n",
        "    # Positive\n",
        "    return 1\n",
        "  return 0\n",
        "\n",
        "def predict_topic(tokens, lda_model, dictionary):\n",
        "  topic_dist = lda_model.get_document_topics(dictionary.doc2bow(tokens))\n",
        "  topic_id = rank_topic(topic_dist)\n",
        "  return topic_id\n",
        "\n",
        "def predict_sentiment(tokens, sentiment_model, word_vectors):\n",
        "  X_new = [transform_tokens_to_indices(word_vectors, tokens)]\n",
        "  X_new = pad_sequences(X_new, padding='post', maxlen=1149)\n",
        "  y_new = sentiment_model.predict(X_new)\n",
        "  sentiment_id = get_sentiment_id(y_new[0][0])\n",
        "  return sentiment_id\n",
        "\n",
        "def analyze_aspect_sentiment(list_tokens, lda_model, dictionary\n",
        "                              , sentiment_model, word_vectors):\n",
        "  tuples = []\n",
        "  for tokens in list_tokens:\n",
        "    topic_id = predict_topic(tokens, lda_model, dictionary)\n",
        "    sentiment_id = predict_sentiment(tokens, sentiment_model, word_vectors)\n",
        "#     print(\"Topic: {}, Sentiment: {}\".format(topic_mapping.get(topic_id), sentiment_mapping.get(sentiment_id)))\n",
        "    tpl = {topic_key: topic_id, sentiment_key: sentiment_id}\n",
        "    tuples.append(tpl)\n",
        "  return tuples\n",
        "\n",
        "def run_analyzer(start, stop, saved_file):\n",
        "  print(\"Running aspect-based sentiment analyzer from review {} to review {}...\"\n",
        "       .format(start, stop))\n",
        "  now = datetime.now()\n",
        "  df = unlabeled_data.loc[range(start, stop)]\n",
        "  df[result_col] = df[tokens_col].apply(analyze_aspect_sentiment\n",
        "                  , args=(lda_model, dictionary, sentiment_model, word_vectors,))\n",
        "  \n",
        "  print(\"Saving file at: {}\".format(saved_file))\n",
        "  df.to_pickle(saved_file)\n",
        "  \n",
        "  then = datetime.now()\n",
        "  print(\"Finish!\")\n",
        "  print(\"Take: {}\".format(then-now))\n",
        "  \n",
        "def run_analyzer_for_reviews(df, saved_file):\n",
        "  now = datetime.now()\n",
        "  df[result_col] = df[tokens_col].apply(analyze_aspect_sentiment\n",
        "                  , args=(lda_model, dictionary, sentiment_model, word_vectors,))\n",
        "  \n",
        "  print(\"Saving file at: {}\".format(saved_file))\n",
        "  df.to_pickle(saved_file)\n",
        "  \n",
        "  then = datetime.now()\n",
        "  print(\"Finish!\")\n",
        "  print(\"Take: {}\".format(then-now))\n",
        "  \n",
        "def is_hcm_shop(brand_link):\n",
        "  return \"ho-chi-minh\" in brand_link\n",
        "  \n",
        "def select_top_reviewed_brands(n_brands):\n",
        "  review_by_brand = unlabeled_data.groupby(brand_id_col).count()[brand_name_col].sort_values(ascending=False)\n",
        "  \n",
        "  top_brands = []\n",
        "  total_reviews = 0\n",
        "  n_remaining_brands = n_brands\n",
        "  i = 0\n",
        "  \n",
        "  while n_remaining_brands > 0:\n",
        "    brand_link = review_by_brand.index[i]\n",
        "    if is_hcm_shop(brand_link) == True:\n",
        "      top_brands.append(brand_link)\n",
        "      total_reviews += review_by_brand[i]\n",
        "      n_remaining_brands -= 1\n",
        "    i += 1\n",
        "  print(\"Total reviews: {}\".format(total_reviews))\n",
        "  return top_brands\n",
        "\n",
        "def review_by_brand_statistic():\n",
        "  review_by_brand = unlabeled_data.groupby(brand_id_col).count()[brand_name_col].values\n",
        "  print(\"Minimum reviews per brand: {} \\nMaximum reviews per brand: {} \\nAverage: {}\"\n",
        "      .format(min(review_by_brand), max(review_by_brand), np.mean(review_by_brand)))\n",
        "  \n",
        "def filter_top_brands(brand_id, top_brands):\n",
        "  return brand_id in top_brands\n",
        "\n",
        "def filter_reviews_in_top_reviewed_brands(n_brands):\n",
        "  top_brands = select_top_reviewed_brands(n_brands)\n",
        "  return unlabeled_data.loc[unlabeled_data[brand_id_col].apply(filter_top_brands, args=(top_brands,))]"
      ],
      "execution_count": 0,
      "outputs": []
    },
    {
      "cell_type": "code",
      "metadata": {
        "id": "xQUOf7Y8RKLN",
        "colab_type": "code",
        "colab": {}
      },
      "source": [
        "unlabeled_data = read_unlabeled_data()\n",
        "# dictionary = load_dict()\n",
        "# lda_model = load_lda_model()\n",
        "# word_vectors = KeyedVectors.load_word2vec_format(unlabeled_w2v_file)\n",
        "# sentiment_model = load_sentiment_model()"
      ],
      "execution_count": 0,
      "outputs": []
    },
    {
      "cell_type": "code",
      "metadata": {
        "id": "V6R3rqG1XAAK",
        "colab_type": "code",
        "outputId": "c8180b86-fed9-4fe5-bc9b-a0421a1c4907",
        "colab": {
          "base_uri": "https://localhost:8080/",
          "height": 86
        }
      },
      "source": [
        "# start = 15000\n",
        "# stop = 20000\n",
        "# result_file_template = \"/content/drive/My Drive/Master/2nd Semester/AdvMLDM/Project_AdvMLDM/dang/result_{0}_{1}.pkl\"\n",
        "# result_file = result_file_template.replace(\"{0}\", str(start)).replace(\"{1}\", str(stop))\n",
        "# run_analyzer(start, stop, result_file)"
      ],
      "execution_count": 0,
      "outputs": [
        {
          "output_type": "stream",
          "text": [
            "Running aspect-based sentiment analyzer from review 15000 to review 20000...\n",
            "Saving file at: /content/drive/My Drive/Master/2nd Semester/AdvMLDM/Project_AdvMLDM/dang/result_15000_20000.pkl\n",
            "Finish!\n",
            "Take: 0:11:39.891661\n"
          ],
          "name": "stdout"
        }
      ]
    },
    {
      "cell_type": "code",
      "metadata": {
        "id": "FUrACbfWWth_",
        "colab_type": "code",
        "outputId": "51142303-74c6-4603-f536-45a91256aaa5",
        "colab": {
          "base_uri": "https://localhost:8080/",
          "height": 69
        }
      },
      "source": [
        "review_by_brand_statistic()"
      ],
      "execution_count": 0,
      "outputs": [
        {
          "output_type": "stream",
          "text": [
            "Minimum reviews per brand: 1 \n",
            "Maximum reviews per brand: 445 \n",
            "Average: 11.846175597342004\n"
          ],
          "name": "stdout"
        }
      ]
    },
    {
      "cell_type": "code",
      "metadata": {
        "id": "Qpu_XsI1wOFL",
        "colab_type": "code",
        "outputId": "1a2f35e8-3cb4-4299-9285-f55d4d210f9b",
        "colab": {
          "base_uri": "https://localhost:8080/",
          "height": 173
        }
      },
      "source": [
        "n_brands = 10\n",
        "top_reviewed_result_file_template = \"/content/drive/My Drive/Master/2nd Semester/AdvMLDM/Project_AdvMLDM/dang/top_{0}_reviewed_brand.pkl\"\n",
        "top_reviewed_result_file = top_reviewed_result_file_template.replace(\"{0}\", str(n_brands))\n",
        "\n",
        "top_reviewed_brands = filter_reviews_in_top_reviewed_brands(n_brands)\n",
        "run_analyzer_for_reviews(top_reviewed_brands, top_reviewed_result_file)"
      ],
      "execution_count": 0,
      "outputs": [
        {
          "output_type": "stream",
          "text": [
            "Total reviews: 4154\n",
            "Saving file at: /content/drive/My Drive/Master/2nd Semester/AdvMLDM/Project_AdvMLDM/dang/top_10_reviewed_brand.pkl\n",
            "Finish!\n",
            "Take: 0:09:22.784347\n"
          ],
          "name": "stdout"
        },
        {
          "output_type": "stream",
          "text": [
            "/usr/local/lib/python3.6/dist-packages/ipykernel_launcher.py:90: SettingWithCopyWarning: \n",
            "A value is trying to be set on a copy of a slice from a DataFrame.\n",
            "Try using .loc[row_indexer,col_indexer] = value instead\n",
            "\n",
            "See the caveats in the documentation: http://pandas.pydata.org/pandas-docs/stable/indexing.html#indexing-view-versus-copy\n"
          ],
          "name": "stderr"
        }
      ]
    },
    {
      "cell_type": "markdown",
      "metadata": {
        "id": "LFmWgfc3_xad",
        "colab_type": "text"
      },
      "source": [
        "## Statistic"
      ]
    },
    {
      "cell_type": "code",
      "metadata": {
        "id": "_8q7MLPdD7lu",
        "colab_type": "code",
        "colab": {}
      },
      "source": [
        "from collections import Counter"
      ],
      "execution_count": 0,
      "outputs": []
    },
    {
      "cell_type": "code",
      "metadata": {
        "id": "4bPNyd0_S2IW",
        "colab_type": "code",
        "colab": {}
      },
      "source": [
        "def analyze_brand(df, brand_link):\n",
        "  list_tuples = df.loc[review_result[brand_id_col] == brand_link, result_col].values\n",
        "  topics = []\n",
        "  sentiments = []\n",
        "  for tuples in list_tuples:\n",
        "    for t in tuples:\n",
        "      topics.append(t.get(topic_key))\n",
        "      sentiments.append(\"{}_{}\".format(t.get(topic_key), t.get(sentiment_key)))\n",
        "  topic_counter = Counter(topics)\n",
        "  sentiment_counter = Counter(sentiments)\n",
        "  \n",
        "  most_common_topic = topic_counter.most_common(1)[0][0]\n",
        "  most_common_topic_count = topic_counter.most_common(1)[0][1]\n",
        "  total_topic_count = sum(topic_counter.values())\n",
        "  topic_percentage = most_common_topic_count / total_topic_count * 100\n",
        "#   print(\"Most common topic: {}, take: {}%\".format(most_common_topic, topic_percentage))\n",
        "  \n",
        "  sentiment_counter_dict = dict(sentiment_counter)\n",
        "  pos_key = \"{}_{}\".format(str(most_common_topic), 1)\n",
        "  neg_key = \"{}_{}\".format(str(most_common_topic), 0)\n",
        "  \n",
        "  pos_count = sentiment_counter_dict.get(pos_key)\n",
        "  neg_count = sentiment_counter_dict.get(neg_key)\n",
        "  sentiment_count = pos_count + neg_count\n",
        "  post_percentage = pos_count/sentiment_count*100\n",
        "  neg_percentage = neg_count/sentiment_count*100\n",
        "#   print(\"Positive: {}, take: {}%, Negative: {}, take: {}%\".format(pos_count, pos_count/sentiment_count*100, neg_count, neg_count/sentiment_count*100))\n",
        "  return most_common_topic, topic_percentage, post_percentage, neg_percentage\n",
        "\n",
        "def analyze_review(review_result):\n",
        "  df = pd.DataFrame(columns=[brand_name_col, most_common_topic_col\n",
        "                           , common_topic_percentage_col, common_topic_pos_col, common_topic_neg_col])\n",
        "  brand_links = review_result[brand_id_col].unique()\n",
        "  for brand_link in brand_links:\n",
        "    brand_name = review_result.loc[review_result[brand_id_col] == brand_link, brand_name_col].values[0]\n",
        "    most_common_topic, topic_percentage, post_percentage, neg_percentage = analyze_brand(review_result, brand_link)\n",
        "    \n",
        "    df = df.append({brand_name_col: brand_name\n",
        "               , most_common_topic_col: topic_mapping.get(most_common_topic)\n",
        "              , common_topic_percentage_col: round(topic_percentage,2)\n",
        "              , common_topic_pos_col: round(post_percentage, 2)\n",
        "              , common_topic_neg_col: round(neg_percentage, 2)}\n",
        "             , ignore_index=True)\n",
        "  return df\n",
        "\n",
        "def analyze_detail_in_brand(df, brand_link, n_sentences):\n",
        "  count = 0\n",
        "  filer_df = df.loc[review_result[brand_id_col] == brand_link]\n",
        "  brand_name = filer_df[brand_name_col].values[0]\n",
        "  print(\"Shop: {}\".format(brand_name))\n",
        "  for i, row in filer_df.iterrows():\n",
        "    sentences = row[sentences_col]\n",
        "    tuples = row[result_col]\n",
        "    \n",
        "    for j in range(0, len(sentences)):\n",
        "      print(\"\\nSentence: {}\".format(sentences[j]))\n",
        "      topic = topic_mapping.get(tuples[j].get(topic_key))\n",
        "      sentiment = sentiment_mapping.get(tuples[j].get(sentiment_key))\n",
        "      print(\"Topic: {}, Sentiment: {}\".format(topic, sentiment))\n",
        "      count += 1\n",
        "    if count > n_sentences:\n",
        "      break\n",
        "  "
      ],
      "execution_count": 0,
      "outputs": []
    },
    {
      "cell_type": "code",
      "metadata": {
        "id": "09J5-RZ8_0PU",
        "colab_type": "code",
        "colab": {}
      },
      "source": [
        "review_result_file = \"/content/drive/My Drive/Master/2nd Semester/AdvMLDM/Project_AdvMLDM/dang/top_10_reviewed_brand.pkl\"\n",
        "brand_name_col = \"brand_name\"\n",
        "most_common_topic_col = \"most_common_topic\"\n",
        "sentences_col = \"sentences\"\n",
        "common_topic_percentage_col = \"common_topic_percentage\"\n",
        "common_topic_pos_col = \"common_topic_pos_percentage\"\n",
        "common_topic_neg_col = \"common_topic_neg_percentage\""
      ],
      "execution_count": 0,
      "outputs": []
    },
    {
      "cell_type": "code",
      "metadata": {
        "id": "oJ2XLB-mBlN-",
        "colab_type": "code",
        "outputId": "550618a5-4929-4f26-e0f3-35a3e96883f4",
        "colab": {
          "base_uri": "https://localhost:8080/",
          "height": 380
        }
      },
      "source": [
        "review_result = pd.read_pickle(review_result_file)\n",
        "analyze_review(review_result)"
      ],
      "execution_count": 0,
      "outputs": [
        {
          "output_type": "execute_result",
          "data": {
            "text/html": [
              "<div>\n",
              "<style scoped>\n",
              "    .dataframe tbody tr th:only-of-type {\n",
              "        vertical-align: middle;\n",
              "    }\n",
              "\n",
              "    .dataframe tbody tr th {\n",
              "        vertical-align: top;\n",
              "    }\n",
              "\n",
              "    .dataframe thead th {\n",
              "        text-align: right;\n",
              "    }\n",
              "</style>\n",
              "<table border=\"1\" class=\"dataframe\">\n",
              "  <thead>\n",
              "    <tr style=\"text-align: right;\">\n",
              "      <th></th>\n",
              "      <th>brand_name</th>\n",
              "      <th>most_common_topic</th>\n",
              "      <th>common_topic_percentage</th>\n",
              "      <th>common_topic_pos_percentage</th>\n",
              "      <th>common_topic_neg_percentage</th>\n",
              "    </tr>\n",
              "  </thead>\n",
              "  <tbody>\n",
              "    <tr>\n",
              "      <th>0</th>\n",
              "      <td>Hanuri - Quán Ăn Hàn Quốc - Sư Vạn Hạnh</td>\n",
              "      <td>???</td>\n",
              "      <td>24.44</td>\n",
              "      <td>34.59</td>\n",
              "      <td>65.41</td>\n",
              "    </tr>\n",
              "    <tr>\n",
              "      <th>1</th>\n",
              "      <td>Mì Ý Double B</td>\n",
              "      <td>Món ăn</td>\n",
              "      <td>28.44</td>\n",
              "      <td>49.54</td>\n",
              "      <td>50.46</td>\n",
              "    </tr>\n",
              "    <tr>\n",
              "      <th>2</th>\n",
              "      <td>Hebe - Tea &amp; Coffee</td>\n",
              "      <td>Thức uống</td>\n",
              "      <td>42.66</td>\n",
              "      <td>40.51</td>\n",
              "      <td>59.49</td>\n",
              "    </tr>\n",
              "    <tr>\n",
              "      <th>3</th>\n",
              "      <td>IZZIBING Snow Dessert Coffee - Bingsu</td>\n",
              "      <td>Thức uống</td>\n",
              "      <td>31.55</td>\n",
              "      <td>56.22</td>\n",
              "      <td>43.78</td>\n",
              "    </tr>\n",
              "    <tr>\n",
              "      <th>4</th>\n",
              "      <td>Koi Thé Café - Ngô Đức Kế</td>\n",
              "      <td>Thức uống</td>\n",
              "      <td>39.99</td>\n",
              "      <td>46.99</td>\n",
              "      <td>53.01</td>\n",
              "    </tr>\n",
              "    <tr>\n",
              "      <th>5</th>\n",
              "      <td>Papa's Chicken - Phú Mỹ Hưng</td>\n",
              "      <td>Món ăn</td>\n",
              "      <td>37.64</td>\n",
              "      <td>42.96</td>\n",
              "      <td>57.04</td>\n",
              "    </tr>\n",
              "    <tr>\n",
              "      <th>6</th>\n",
              "      <td>Phúc Long Coffee &amp; Tea House - Lý Tự Trọng</td>\n",
              "      <td>Thức uống</td>\n",
              "      <td>34.17</td>\n",
              "      <td>47.51</td>\n",
              "      <td>52.49</td>\n",
              "    </tr>\n",
              "    <tr>\n",
              "      <th>7</th>\n",
              "      <td>Texas Chicken - Phan Xích Long</td>\n",
              "      <td>Món ăn</td>\n",
              "      <td>28.08</td>\n",
              "      <td>53.39</td>\n",
              "      <td>46.61</td>\n",
              "    </tr>\n",
              "    <tr>\n",
              "      <th>8</th>\n",
              "      <td>Trà Sữa R&amp;B Tea - Ngô Đức Kế</td>\n",
              "      <td>Thức uống</td>\n",
              "      <td>47.21</td>\n",
              "      <td>36.16</td>\n",
              "      <td>63.84</td>\n",
              "    </tr>\n",
              "    <tr>\n",
              "      <th>9</th>\n",
              "      <td>Xôi Chè Bùi Thị Xuân - Bùi Thị Xuân</td>\n",
              "      <td>Món ăn</td>\n",
              "      <td>26.24</td>\n",
              "      <td>36.93</td>\n",
              "      <td>63.07</td>\n",
              "    </tr>\n",
              "  </tbody>\n",
              "</table>\n",
              "</div>"
            ],
            "text/plain": [
              "                                   brand_name  ... common_topic_neg_percentage\n",
              "0     Hanuri - Quán Ăn Hàn Quốc - Sư Vạn Hạnh  ...                       65.41\n",
              "1                               Mì Ý Double B  ...                       50.46\n",
              "2                         Hebe - Tea & Coffee  ...                       59.49\n",
              "3       IZZIBING Snow Dessert Coffee - Bingsu  ...                       43.78\n",
              "4                   Koi Thé Café - Ngô Đức Kế  ...                       53.01\n",
              "5                Papa's Chicken - Phú Mỹ Hưng  ...                       57.04\n",
              "6  Phúc Long Coffee & Tea House - Lý Tự Trọng  ...                       52.49\n",
              "7              Texas Chicken - Phan Xích Long  ...                       46.61\n",
              "8                Trà Sữa R&B Tea - Ngô Đức Kế  ...                       63.84\n",
              "9         Xôi Chè Bùi Thị Xuân - Bùi Thị Xuân  ...                       63.07\n",
              "\n",
              "[10 rows x 5 columns]"
            ]
          },
          "metadata": {
            "tags": []
          },
          "execution_count": 12
        }
      ]
    },
    {
      "cell_type": "code",
      "metadata": {
        "id": "OLcWYoZALdo3",
        "colab_type": "code",
        "outputId": "78cf53fc-161e-4f8f-a2d4-27583db11e78",
        "colab": {
          "base_uri": "https://localhost:8080/",
          "height": 208
        }
      },
      "source": [
        "select_top_reviewed_brands(10)"
      ],
      "execution_count": 0,
      "outputs": [
        {
          "output_type": "stream",
          "text": [
            "Total reviews: 4154\n"
          ],
          "name": "stdout"
        },
        {
          "output_type": "execute_result",
          "data": {
            "text/plain": [
              "['https://www.foody.vn/ho-chi-minh/koi-the-cafe-viet-nam-ngo-duc-ke',\n",
              " 'https://www.foody.vn/ho-chi-minh/hanuri-quan-an-han-quoc',\n",
              " 'https://www.foody.vn/ho-chi-minh/phuc-long-coffee-tea-house-ly-tu-trong',\n",
              " 'https://www.foody.vn/ho-chi-minh/xoi-che-bui-thi-xuan-bui-thi-xuan',\n",
              " 'https://www.foody.vn/ho-chi-minh/mi-y-double-b',\n",
              " 'https://www.foody.vn/ho-chi-minh/tra-sua-r-b-tea-ngo-duc-ke',\n",
              " 'https://www.foody.vn/ho-chi-minh/texas-chicken-phan-xich-long',\n",
              " 'https://www.foody.vn/ho-chi-minh/hebe-tea-and-coffee',\n",
              " 'https://www.foody.vn/ho-chi-minh/papa-s-chicken',\n",
              " 'https://www.foody.vn/ho-chi-minh/izzibing-pho-quang']"
            ]
          },
          "metadata": {
            "tags": []
          },
          "execution_count": 14
        }
      ]
    },
    {
      "cell_type": "code",
      "metadata": {
        "id": "wsRoyz-bWFw1",
        "colab_type": "code",
        "outputId": "711b2698-d3d0-4c58-b068-e4f98686942c",
        "colab": {
          "base_uri": "https://localhost:8080/",
          "height": 784
        }
      },
      "source": [
        "n_sentences = 10\n",
        "brand_link = \"https://www.foody.vn/ho-chi-minh/phuc-long-coffee-tea-house-ly-tu-trong\"\n",
        "analyze_detail_in_brand(review_result, brand_link, n_sentences)"
      ],
      "execution_count": 0,
      "outputs": [
        {
          "output_type": "stream",
          "text": [
            "Shop: Phúc Long Coffee & Tea House - Lý Tự Trọng\n",
            "\n",
            "Sentence: không có gì đặc biệtmình chẳng hiểu sao nhiều bạn lại ghiền phúc long đến thế chứ riêng mình thì không thấy có gì đặc sắc ở loại trà này cả chắc có lẽ chọn chưa đúng món ngon nhưng khuyến cáo mấy bạn đừng nên gọi món phúc long cocktail tea không ngon mà còn phải chờ lâu kinh khủng\n",
            "Topic: Thức uống, Sentiment: Negative\n",
            "\n",
            "Sentence: best ❤trà sữa phúc long ngon cực\n",
            "Topic: Thức uống, Sentiment: Possitive\n",
            "\n",
            "Sentence: trà xanh đá xay thì toẹt vời hơn\n",
            "Topic: Thức uống, Sentiment: Possitive\n",
            "\n",
            "Sentence: cream ngon ngon béo béo\n",
            "Topic: Thức uống, Sentiment: Possitive\n",
            "\n",
            "Sentence: nhất định sẽ quay lạiiiii ❤❤❤\n",
            "Topic: Phục vụ, Sentiment: Possitive\n",
            "\n",
            "Sentence: phúc long coffee & tea house  lý tự trọngnay thèm phúc long tiện đi ngang qua đây mình ghé vào mua uống\n",
            "Topic: ???, Sentiment: Negative\n",
            "\n",
            "Sentence: mình order trà đào vẫn như cũ k  miếng đào thì phải nhưng khi hút được  ngụm cảm giác thật là\n",
            "Topic: Thức uống, Sentiment: Negative\n",
            "\n",
            "Sentence: wtf mình đang uống cái quái gì v\n",
            "Topic: Giá - chất lượng, Sentiment: Negative\n",
            "\n",
            "Sentence: ngó qua ngó lại xem phải phúc long không\n",
            "Topic: Giá - chất lượng, Sentiment: Negative\n",
            "\n",
            "Sentence: trời ơi\n",
            "Topic: ???, Sentiment: Possitive\n",
            "\n",
            "Sentence: k trà gì nhạt toẹt mua xong tiếc đứt ruột phải ngồi cặm cụi hút kẻo phí\n",
            "Topic: ???, Sentiment: Negative\n",
            "\n",
            "Sentence: mình không biết do chi nhánh này pha có vấn đề hay do tâm lý bạn pha chế nay bị ảnh hưởng\n",
            "Topic: ???, Sentiment: Negative\n",
            "\n",
            "Sentence: trà nhạt toẹt như kiểu uống nước lã còn ngon hơn ý không có cái vị trà luôn không thơm được cái cho ít đá hơn các chi nhánh khác\n",
            "Topic: Thức uống, Sentiment: Negative\n",
            "\n",
            "Sentence: quán không gian nhỏ chật ồn wifi như củ cải quán đông lại ở trung tâm tp vụ này không tránh được\n",
            "Topic: Không gian, Sentiment: Negative\n"
          ],
          "name": "stdout"
        }
      ]
    }
  ]
}